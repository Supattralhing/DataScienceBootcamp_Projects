{
 "cells":[
  {
   "cell_type":"markdown",
   "source":[
    "# Project"
   ],
   "attachments":{
    
   },
   "metadata":{
    "datalore":{
     "node_id":"Project",
     "type":"MD",
     "hide_input_from_viewers":false,
     "hide_output_from_viewers":false,
     "sheet_delimiter":true
    }
   }
  },
  {
   "cell_type":"markdown",
   "source":[
    "# Final Project - Analyzing Sales Data\n",
    "\n",
    "**Date**: 28 April 2023\n",
    "\n",
    "**Author**: Supattra Puttisanwimon\n",
    "\n",
    "**Course**: `Pandas Foundation`"
   ],
   "attachments":{
    
   },
   "metadata":{
    "datalore":{
     "node_id":"CBtjjyiiCb2D3cUN8CSC3U",
     "type":"MD",
     "hide_input_from_viewers":false,
     "hide_output_from_viewers":false,
     "report_properties":{
      "rowId":"PsZ3GsOuAh5oL3t5b1nG5C"
     }
    }
   }
  },
  {
   "cell_type":"code",
   "source":[
    "# import data\n",
    "import pandas as pd\n",
    "df = pd.read_csv(\"sample-store.csv\")"
   ],
   "execution_count":1,
   "outputs":[
    
   ],
   "metadata":{
    "datalore":{
     "node_id":"yOPcRsJ7Tythqsdm8q7OZF",
     "type":"CODE",
     "hide_input_from_viewers":false,
     "hide_output_from_viewers":false,
     "report_properties":{
      "rowId":"QSj7SIuNFBSMVeTB58LLUZ"
     }
    }
   }
  },
  {
   "cell_type":"code",
   "source":[
    "# preview top 5 rows\n",
    "df.head(5)"
   ],
   "execution_count":2,
   "outputs":[
    {
     "data":{
      "text\/html":[
       "<div>\n",
       "<style scoped>\n",
       "    .dataframe tbody tr th:only-of-type {\n",
       "        vertical-align: middle;\n",
       "    }\n",
       "\n",
       "    .dataframe tbody tr th {\n",
       "        vertical-align: top;\n",
       "    }\n",
       "\n",
       "    .dataframe thead th {\n",
       "        text-align: right;\n",
       "    }\n",
       "<\/style>\n",
       "<table border=\"1\" class=\"dataframe\">\n",
       "  <thead>\n",
       "    <tr style=\"text-align: right;\">\n",
       "      <th><\/th>\n",
       "      <th>Row ID<\/th>\n",
       "      <th>Order ID<\/th>\n",
       "      <th>Order Date<\/th>\n",
       "      <th>Ship Date<\/th>\n",
       "      <th>Ship Mode<\/th>\n",
       "      <th>Customer ID<\/th>\n",
       "      <th>Customer Name<\/th>\n",
       "      <th>Segment<\/th>\n",
       "      <th>Country\/Region<\/th>\n",
       "      <th>City<\/th>\n",
       "      <th>...<\/th>\n",
       "      <th>Postal Code<\/th>\n",
       "      <th>Region<\/th>\n",
       "      <th>Product ID<\/th>\n",
       "      <th>Category<\/th>\n",
       "      <th>Sub-Category<\/th>\n",
       "      <th>Product Name<\/th>\n",
       "      <th>Sales<\/th>\n",
       "      <th>Quantity<\/th>\n",
       "      <th>Discount<\/th>\n",
       "      <th>Profit<\/th>\n",
       "    <\/tr>\n",
       "  <\/thead>\n",
       "  <tbody>\n",
       "    <tr>\n",
       "      <th>0<\/th>\n",
       "      <td>1<\/td>\n",
       "      <td>CA-2019-152156<\/td>\n",
       "      <td>11\/8\/2019<\/td>\n",
       "      <td>11\/11\/2019<\/td>\n",
       "      <td>Second Class<\/td>\n",
       "      <td>CG-12520<\/td>\n",
       "      <td>Claire Gute<\/td>\n",
       "      <td>Consumer<\/td>\n",
       "      <td>United States<\/td>\n",
       "      <td>Henderson<\/td>\n",
       "      <td>...<\/td>\n",
       "      <td>42420.0<\/td>\n",
       "      <td>South<\/td>\n",
       "      <td>FUR-BO-10001798<\/td>\n",
       "      <td>Furniture<\/td>\n",
       "      <td>Bookcases<\/td>\n",
       "      <td>Bush Somerset Collection Bookcase<\/td>\n",
       "      <td>261.9600<\/td>\n",
       "      <td>2<\/td>\n",
       "      <td>0.00<\/td>\n",
       "      <td>41.9136<\/td>\n",
       "    <\/tr>\n",
       "    <tr>\n",
       "      <th>1<\/th>\n",
       "      <td>2<\/td>\n",
       "      <td>CA-2019-152156<\/td>\n",
       "      <td>11\/8\/2019<\/td>\n",
       "      <td>11\/11\/2019<\/td>\n",
       "      <td>Second Class<\/td>\n",
       "      <td>CG-12520<\/td>\n",
       "      <td>Claire Gute<\/td>\n",
       "      <td>Consumer<\/td>\n",
       "      <td>United States<\/td>\n",
       "      <td>Henderson<\/td>\n",
       "      <td>...<\/td>\n",
       "      <td>42420.0<\/td>\n",
       "      <td>South<\/td>\n",
       "      <td>FUR-CH-10000454<\/td>\n",
       "      <td>Furniture<\/td>\n",
       "      <td>Chairs<\/td>\n",
       "      <td>Hon Deluxe Fabric Upholstered Stacking Chairs,...<\/td>\n",
       "      <td>731.9400<\/td>\n",
       "      <td>3<\/td>\n",
       "      <td>0.00<\/td>\n",
       "      <td>219.5820<\/td>\n",
       "    <\/tr>\n",
       "    <tr>\n",
       "      <th>2<\/th>\n",
       "      <td>3<\/td>\n",
       "      <td>CA-2019-138688<\/td>\n",
       "      <td>6\/12\/2019<\/td>\n",
       "      <td>6\/16\/2019<\/td>\n",
       "      <td>Second Class<\/td>\n",
       "      <td>DV-13045<\/td>\n",
       "      <td>Darrin Van Huff<\/td>\n",
       "      <td>Corporate<\/td>\n",
       "      <td>United States<\/td>\n",
       "      <td>Los Angeles<\/td>\n",
       "      <td>...<\/td>\n",
       "      <td>90036.0<\/td>\n",
       "      <td>West<\/td>\n",
       "      <td>OFF-LA-10000240<\/td>\n",
       "      <td>Office Supplies<\/td>\n",
       "      <td>Labels<\/td>\n",
       "      <td>Self-Adhesive Address Labels for Typewriters b...<\/td>\n",
       "      <td>14.6200<\/td>\n",
       "      <td>2<\/td>\n",
       "      <td>0.00<\/td>\n",
       "      <td>6.8714<\/td>\n",
       "    <\/tr>\n",
       "    <tr>\n",
       "      <th>3<\/th>\n",
       "      <td>4<\/td>\n",
       "      <td>US-2018-108966<\/td>\n",
       "      <td>10\/11\/2018<\/td>\n",
       "      <td>10\/18\/2018<\/td>\n",
       "      <td>Standard Class<\/td>\n",
       "      <td>SO-20335<\/td>\n",
       "      <td>Sean O'Donnell<\/td>\n",
       "      <td>Consumer<\/td>\n",
       "      <td>United States<\/td>\n",
       "      <td>Fort Lauderdale<\/td>\n",
       "      <td>...<\/td>\n",
       "      <td>33311.0<\/td>\n",
       "      <td>South<\/td>\n",
       "      <td>FUR-TA-10000577<\/td>\n",
       "      <td>Furniture<\/td>\n",
       "      <td>Tables<\/td>\n",
       "      <td>Bretford CR4500 Series Slim Rectangular Table<\/td>\n",
       "      <td>957.5775<\/td>\n",
       "      <td>5<\/td>\n",
       "      <td>0.45<\/td>\n",
       "      <td>-383.0310<\/td>\n",
       "    <\/tr>\n",
       "    <tr>\n",
       "      <th>4<\/th>\n",
       "      <td>5<\/td>\n",
       "      <td>US-2018-108966<\/td>\n",
       "      <td>10\/11\/2018<\/td>\n",
       "      <td>10\/18\/2018<\/td>\n",
       "      <td>Standard Class<\/td>\n",
       "      <td>SO-20335<\/td>\n",
       "      <td>Sean O'Donnell<\/td>\n",
       "      <td>Consumer<\/td>\n",
       "      <td>United States<\/td>\n",
       "      <td>Fort Lauderdale<\/td>\n",
       "      <td>...<\/td>\n",
       "      <td>33311.0<\/td>\n",
       "      <td>South<\/td>\n",
       "      <td>OFF-ST-10000760<\/td>\n",
       "      <td>Office Supplies<\/td>\n",
       "      <td>Storage<\/td>\n",
       "      <td>Eldon Fold 'N Roll Cart System<\/td>\n",
       "      <td>22.3680<\/td>\n",
       "      <td>2<\/td>\n",
       "      <td>0.20<\/td>\n",
       "      <td>2.5164<\/td>\n",
       "    <\/tr>\n",
       "  <\/tbody>\n",
       "<\/table>\n",
       "<p>5 rows × 21 columns<\/p>\n",
       "<\/div>"
      ]
     },
     "metadata":{
      
     },
     "output_type":"display_data"
    }
   ],
   "metadata":{
    "datalore":{
     "node_id":"DBb7w4rMhIrKG0ar35sh6N",
     "type":"CODE",
     "hide_input_from_viewers":false,
     "hide_output_from_viewers":false,
     "report_properties":{
      "rowId":"OUU96SToWwrj1B1ArB4O1w"
     }
    }
   }
  },
  {
   "cell_type":"code",
   "source":[
    "# shape of dataframe\n",
    "df.shape"
   ],
   "execution_count":3,
   "outputs":[
    {
     "data":{
      "text\/plain":[
       "(9994, 21)"
      ]
     },
     "metadata":{
      
     },
     "output_type":"display_data"
    }
   ],
   "metadata":{
    "datalore":{
     "node_id":"MA1qNQaYGwACrlmJRapWut",
     "type":"CODE",
     "hide_input_from_viewers":false,
     "hide_output_from_viewers":false,
     "report_properties":{
      "rowId":"7mU2MKYJCZklKsnCPvnmBr"
     }
    }
   }
  },
  {
   "cell_type":"code",
   "source":[
    "# see data frame information using .info()\n",
    "df.info()"
   ],
   "execution_count":4,
   "outputs":[
    {
     "name":"stdout",
     "text":[
      "<class 'pandas.core.frame.DataFrame'>\n",
      "RangeIndex: 9994 entries, 0 to 9993\n",
      "Data columns (total 21 columns):\n",
      " #   Column          Non-Null Count  Dtype  \n",
      "---  ------          --------------  -----  \n",
      " 0   Row ID          9994 non-null   int64  \n",
      " 1   Order ID        9994 non-null   object \n",
      " 2   Order Date      9994 non-null   object \n",
      " 3   Ship Date       9994 non-null   object \n",
      " 4   Ship Mode       9994 non-null   object \n",
      " 5   Customer ID     9994 non-null   object \n",
      " 6   Customer Name   9994 non-null   object \n",
      " 7   Segment         9994 non-null   object \n",
      " 8   Country\/Region  9994 non-null   object \n",
      " 9   City            9994 non-null   object \n",
      " 10  State           9994 non-null   object \n",
      " 11  Postal Code     9983 non-null   float64\n",
      " 12  Region          9994 non-null   object \n",
      " 13  Product ID      9994 non-null   object \n",
      " 14  Category        9994 non-null   object \n",
      " 15  Sub-Category    9994 non-null   object \n",
      " 16  Product Name    9994 non-null   object \n",
      " 17  Sales           9994 non-null   float64\n",
      " 18  Quantity        9994 non-null   int64  \n",
      " 19  Discount        9994 non-null   float64\n",
      " 20  Profit          9994 non-null   float64\n",
      "dtypes: float64(4), int64(2), object(15)\n",
      "memory usage: 1.6+ MB\n"
     ],
     "output_type":"stream"
    }
   ],
   "metadata":{
    "datalore":{
     "node_id":"uYAawZ1fRoF4RBKLbCDZGM",
     "type":"CODE",
     "hide_input_from_viewers":false,
     "hide_output_from_viewers":false,
     "report_properties":{
      "rowId":"JbsMlJLoQgvdJjOoD84uIu"
     }
    }
   }
  },
  {
   "cell_type":"markdown",
   "source":[
    "We can use `pd.to_datetime()` function to convert columns 'Order Date' and 'Ship Date' to datetime."
   ],
   "attachments":{
    
   },
   "metadata":{
    "datalore":{
     "node_id":"NSYSLF6pm7OBRwE316Bh7u",
     "type":"MD",
     "hide_input_from_viewers":false,
     "hide_output_from_viewers":false,
     "report_properties":{
      "rowId":"p1384kLQcEKra5tI5fvzXE"
     }
    }
   }
  },
  {
   "cell_type":"code",
   "source":[
    "# example of pd.to_datetime() function\n",
    "pd.to_datetime(df['Order Date'].head(), format='%m\/%d\/%Y')"
   ],
   "execution_count":5,
   "outputs":[
    {
     "data":{
      "text\/html":[
       "<pre>0   2019-11-08\n",
       "1   2019-11-08\n",
       "2   2019-06-12\n",
       "3   2018-10-11\n",
       "4   2018-10-11\n",
       "Name: Order Date, dtype: datetime64[ns]<\/pre>"
      ]
     },
     "metadata":{
      
     },
     "output_type":"display_data"
    }
   ],
   "metadata":{
    "datalore":{
     "node_id":"waNVzj2tSXghTKLXCruTij",
     "type":"CODE",
     "hide_input_from_viewers":false,
     "hide_output_from_viewers":false,
     "report_properties":{
      "rowId":"PtpEhsctFjNWpgwjN7Oibt"
     }
    }
   }
  },
  {
   "cell_type":"code",
   "source":[
    "# TODO - convert order date and ship date to datetime in the original dataframe\n",
    "df['Order Date'] = pd.to_datetime(df['Order Date'], format='%m\/%d\/%Y')\n",
    "df['Ship Date'] = pd.to_datetime(df['Ship Date'], format='%m\/%d\/%Y')\n",
    "df.head(10)"
   ],
   "execution_count":6,
   "outputs":[
    {
     "data":{
      "text\/html":[
       "<div>\n",
       "<style scoped>\n",
       "    .dataframe tbody tr th:only-of-type {\n",
       "        vertical-align: middle;\n",
       "    }\n",
       "\n",
       "    .dataframe tbody tr th {\n",
       "        vertical-align: top;\n",
       "    }\n",
       "\n",
       "    .dataframe thead th {\n",
       "        text-align: right;\n",
       "    }\n",
       "<\/style>\n",
       "<table border=\"1\" class=\"dataframe\">\n",
       "  <thead>\n",
       "    <tr style=\"text-align: right;\">\n",
       "      <th><\/th>\n",
       "      <th>Row ID<\/th>\n",
       "      <th>Order ID<\/th>\n",
       "      <th>Order Date<\/th>\n",
       "      <th>Ship Date<\/th>\n",
       "      <th>Ship Mode<\/th>\n",
       "      <th>Customer ID<\/th>\n",
       "      <th>Customer Name<\/th>\n",
       "      <th>Segment<\/th>\n",
       "      <th>Country\/Region<\/th>\n",
       "      <th>City<\/th>\n",
       "      <th>...<\/th>\n",
       "      <th>Postal Code<\/th>\n",
       "      <th>Region<\/th>\n",
       "      <th>Product ID<\/th>\n",
       "      <th>Category<\/th>\n",
       "      <th>Sub-Category<\/th>\n",
       "      <th>Product Name<\/th>\n",
       "      <th>Sales<\/th>\n",
       "      <th>Quantity<\/th>\n",
       "      <th>Discount<\/th>\n",
       "      <th>Profit<\/th>\n",
       "    <\/tr>\n",
       "  <\/thead>\n",
       "  <tbody>\n",
       "    <tr>\n",
       "      <th>0<\/th>\n",
       "      <td>1<\/td>\n",
       "      <td>CA-2019-152156<\/td>\n",
       "      <td>2019-11-08<\/td>\n",
       "      <td>2019-11-11<\/td>\n",
       "      <td>Second Class<\/td>\n",
       "      <td>CG-12520<\/td>\n",
       "      <td>Claire Gute<\/td>\n",
       "      <td>Consumer<\/td>\n",
       "      <td>United States<\/td>\n",
       "      <td>Henderson<\/td>\n",
       "      <td>...<\/td>\n",
       "      <td>42420.0<\/td>\n",
       "      <td>South<\/td>\n",
       "      <td>FUR-BO-10001798<\/td>\n",
       "      <td>Furniture<\/td>\n",
       "      <td>Bookcases<\/td>\n",
       "      <td>Bush Somerset Collection Bookcase<\/td>\n",
       "      <td>261.9600<\/td>\n",
       "      <td>2<\/td>\n",
       "      <td>0.00<\/td>\n",
       "      <td>41.9136<\/td>\n",
       "    <\/tr>\n",
       "    <tr>\n",
       "      <th>1<\/th>\n",
       "      <td>2<\/td>\n",
       "      <td>CA-2019-152156<\/td>\n",
       "      <td>2019-11-08<\/td>\n",
       "      <td>2019-11-11<\/td>\n",
       "      <td>Second Class<\/td>\n",
       "      <td>CG-12520<\/td>\n",
       "      <td>Claire Gute<\/td>\n",
       "      <td>Consumer<\/td>\n",
       "      <td>United States<\/td>\n",
       "      <td>Henderson<\/td>\n",
       "      <td>...<\/td>\n",
       "      <td>42420.0<\/td>\n",
       "      <td>South<\/td>\n",
       "      <td>FUR-CH-10000454<\/td>\n",
       "      <td>Furniture<\/td>\n",
       "      <td>Chairs<\/td>\n",
       "      <td>Hon Deluxe Fabric Upholstered Stacking Chairs,...<\/td>\n",
       "      <td>731.9400<\/td>\n",
       "      <td>3<\/td>\n",
       "      <td>0.00<\/td>\n",
       "      <td>219.5820<\/td>\n",
       "    <\/tr>\n",
       "    <tr>\n",
       "      <th>2<\/th>\n",
       "      <td>3<\/td>\n",
       "      <td>CA-2019-138688<\/td>\n",
       "      <td>2019-06-12<\/td>\n",
       "      <td>2019-06-16<\/td>\n",
       "      <td>Second Class<\/td>\n",
       "      <td>DV-13045<\/td>\n",
       "      <td>Darrin Van Huff<\/td>\n",
       "      <td>Corporate<\/td>\n",
       "      <td>United States<\/td>\n",
       "      <td>Los Angeles<\/td>\n",
       "      <td>...<\/td>\n",
       "      <td>90036.0<\/td>\n",
       "      <td>West<\/td>\n",
       "      <td>OFF-LA-10000240<\/td>\n",
       "      <td>Office Supplies<\/td>\n",
       "      <td>Labels<\/td>\n",
       "      <td>Self-Adhesive Address Labels for Typewriters b...<\/td>\n",
       "      <td>14.6200<\/td>\n",
       "      <td>2<\/td>\n",
       "      <td>0.00<\/td>\n",
       "      <td>6.8714<\/td>\n",
       "    <\/tr>\n",
       "    <tr>\n",
       "      <th>3<\/th>\n",
       "      <td>4<\/td>\n",
       "      <td>US-2018-108966<\/td>\n",
       "      <td>2018-10-11<\/td>\n",
       "      <td>2018-10-18<\/td>\n",
       "      <td>Standard Class<\/td>\n",
       "      <td>SO-20335<\/td>\n",
       "      <td>Sean O'Donnell<\/td>\n",
       "      <td>Consumer<\/td>\n",
       "      <td>United States<\/td>\n",
       "      <td>Fort Lauderdale<\/td>\n",
       "      <td>...<\/td>\n",
       "      <td>33311.0<\/td>\n",
       "      <td>South<\/td>\n",
       "      <td>FUR-TA-10000577<\/td>\n",
       "      <td>Furniture<\/td>\n",
       "      <td>Tables<\/td>\n",
       "      <td>Bretford CR4500 Series Slim Rectangular Table<\/td>\n",
       "      <td>957.5775<\/td>\n",
       "      <td>5<\/td>\n",
       "      <td>0.45<\/td>\n",
       "      <td>-383.0310<\/td>\n",
       "    <\/tr>\n",
       "    <tr>\n",
       "      <th>4<\/th>\n",
       "      <td>5<\/td>\n",
       "      <td>US-2018-108966<\/td>\n",
       "      <td>2018-10-11<\/td>\n",
       "      <td>2018-10-18<\/td>\n",
       "      <td>Standard Class<\/td>\n",
       "      <td>SO-20335<\/td>\n",
       "      <td>Sean O'Donnell<\/td>\n",
       "      <td>Consumer<\/td>\n",
       "      <td>United States<\/td>\n",
       "      <td>Fort Lauderdale<\/td>\n",
       "      <td>...<\/td>\n",
       "      <td>33311.0<\/td>\n",
       "      <td>South<\/td>\n",
       "      <td>OFF-ST-10000760<\/td>\n",
       "      <td>Office Supplies<\/td>\n",
       "      <td>Storage<\/td>\n",
       "      <td>Eldon Fold 'N Roll Cart System<\/td>\n",
       "      <td>22.3680<\/td>\n",
       "      <td>2<\/td>\n",
       "      <td>0.20<\/td>\n",
       "      <td>2.5164<\/td>\n",
       "    <\/tr>\n",
       "    <tr>\n",
       "      <th>5<\/th>\n",
       "      <td>6<\/td>\n",
       "      <td>CA-2017-115812<\/td>\n",
       "      <td>2017-06-09<\/td>\n",
       "      <td>2017-06-14<\/td>\n",
       "      <td>Standard Class<\/td>\n",
       "      <td>BH-11710<\/td>\n",
       "      <td>Brosina Hoffman<\/td>\n",
       "      <td>Consumer<\/td>\n",
       "      <td>United States<\/td>\n",
       "      <td>Los Angeles<\/td>\n",
       "      <td>...<\/td>\n",
       "      <td>90032.0<\/td>\n",
       "      <td>West<\/td>\n",
       "      <td>FUR-FU-10001487<\/td>\n",
       "      <td>Furniture<\/td>\n",
       "      <td>Furnishings<\/td>\n",
       "      <td>Eldon Expressions Wood and Plastic Desk Access...<\/td>\n",
       "      <td>48.8600<\/td>\n",
       "      <td>7<\/td>\n",
       "      <td>0.00<\/td>\n",
       "      <td>14.1694<\/td>\n",
       "    <\/tr>\n",
       "    <tr>\n",
       "      <th>6<\/th>\n",
       "      <td>7<\/td>\n",
       "      <td>CA-2017-115812<\/td>\n",
       "      <td>2017-06-09<\/td>\n",
       "      <td>2017-06-14<\/td>\n",
       "      <td>Standard Class<\/td>\n",
       "      <td>BH-11710<\/td>\n",
       "      <td>Brosina Hoffman<\/td>\n",
       "      <td>Consumer<\/td>\n",
       "      <td>United States<\/td>\n",
       "      <td>Los Angeles<\/td>\n",
       "      <td>...<\/td>\n",
       "      <td>90032.0<\/td>\n",
       "      <td>West<\/td>\n",
       "      <td>OFF-AR-10002833<\/td>\n",
       "      <td>Office Supplies<\/td>\n",
       "      <td>Art<\/td>\n",
       "      <td>Newell 322<\/td>\n",
       "      <td>7.2800<\/td>\n",
       "      <td>4<\/td>\n",
       "      <td>0.00<\/td>\n",
       "      <td>1.9656<\/td>\n",
       "    <\/tr>\n",
       "    <tr>\n",
       "      <th>7<\/th>\n",
       "      <td>8<\/td>\n",
       "      <td>CA-2017-115812<\/td>\n",
       "      <td>2017-06-09<\/td>\n",
       "      <td>2017-06-14<\/td>\n",
       "      <td>Standard Class<\/td>\n",
       "      <td>BH-11710<\/td>\n",
       "      <td>Brosina Hoffman<\/td>\n",
       "      <td>Consumer<\/td>\n",
       "      <td>United States<\/td>\n",
       "      <td>Los Angeles<\/td>\n",
       "      <td>...<\/td>\n",
       "      <td>90032.0<\/td>\n",
       "      <td>West<\/td>\n",
       "      <td>TEC-PH-10002275<\/td>\n",
       "      <td>Technology<\/td>\n",
       "      <td>Phones<\/td>\n",
       "      <td>Mitel 5320 IP Phone VoIP phone<\/td>\n",
       "      <td>907.1520<\/td>\n",
       "      <td>6<\/td>\n",
       "      <td>0.20<\/td>\n",
       "      <td>90.7152<\/td>\n",
       "    <\/tr>\n",
       "    <tr>\n",
       "      <th>8<\/th>\n",
       "      <td>9<\/td>\n",
       "      <td>CA-2017-115812<\/td>\n",
       "      <td>2017-06-09<\/td>\n",
       "      <td>2017-06-14<\/td>\n",
       "      <td>Standard Class<\/td>\n",
       "      <td>BH-11710<\/td>\n",
       "      <td>Brosina Hoffman<\/td>\n",
       "      <td>Consumer<\/td>\n",
       "      <td>United States<\/td>\n",
       "      <td>Los Angeles<\/td>\n",
       "      <td>...<\/td>\n",
       "      <td>90032.0<\/td>\n",
       "      <td>West<\/td>\n",
       "      <td>OFF-BI-10003910<\/td>\n",
       "      <td>Office Supplies<\/td>\n",
       "      <td>Binders<\/td>\n",
       "      <td>DXL Angle-View Binders with Locking Rings by S...<\/td>\n",
       "      <td>18.5040<\/td>\n",
       "      <td>3<\/td>\n",
       "      <td>0.20<\/td>\n",
       "      <td>5.7825<\/td>\n",
       "    <\/tr>\n",
       "    <tr>\n",
       "      <th>9<\/th>\n",
       "      <td>10<\/td>\n",
       "      <td>CA-2017-115812<\/td>\n",
       "      <td>2017-06-09<\/td>\n",
       "      <td>2017-06-14<\/td>\n",
       "      <td>Standard Class<\/td>\n",
       "      <td>BH-11710<\/td>\n",
       "      <td>Brosina Hoffman<\/td>\n",
       "      <td>Consumer<\/td>\n",
       "      <td>United States<\/td>\n",
       "      <td>Los Angeles<\/td>\n",
       "      <td>...<\/td>\n",
       "      <td>90032.0<\/td>\n",
       "      <td>West<\/td>\n",
       "      <td>OFF-AP-10002892<\/td>\n",
       "      <td>Office Supplies<\/td>\n",
       "      <td>Appliances<\/td>\n",
       "      <td>Belkin F5C206VTEL 6 Outlet Surge<\/td>\n",
       "      <td>114.9000<\/td>\n",
       "      <td>5<\/td>\n",
       "      <td>0.00<\/td>\n",
       "      <td>34.4700<\/td>\n",
       "    <\/tr>\n",
       "  <\/tbody>\n",
       "<\/table>\n",
       "<p>10 rows × 21 columns<\/p>\n",
       "<\/div>"
      ]
     },
     "metadata":{
      
     },
     "output_type":"display_data"
    }
   ],
   "metadata":{
    "datalore":{
     "node_id":"p1lMQkT9RQ30yqfewdojpz",
     "type":"CODE",
     "hide_input_from_viewers":false,
     "hide_output_from_viewers":false,
     "report_properties":{
      "rowId":"jkjy4bFxcfQqH2KnF2UnmL"
     }
    }
   }
  },
  {
   "cell_type":"code",
   "source":[
    "# TODO - count nan in postal code column\n",
    "df['Postal Code'].isna().sum()"
   ],
   "execution_count":7,
   "outputs":[
    {
     "data":{
      "text\/plain":[
       "11"
      ]
     },
     "metadata":{
      
     },
     "output_type":"display_data"
    }
   ],
   "metadata":{
    "datalore":{
     "node_id":"JDjRmmEF2rk2Cb9nEwhCcI",
     "type":"CODE",
     "hide_input_from_viewers":false,
     "hide_output_from_viewers":false,
     "report_properties":{
      "rowId":"dpjTLiB9p3C5ogGw7uxtlb"
     }
    }
   }
  },
  {
   "cell_type":"code",
   "source":[
    "# TODO - filter rows with missing values\n",
    "#clean_df = df.dropna()\n",
    "#clean_df.head()\n",
    "df[df['Postal Code'].isna()]"
   ],
   "execution_count":8,
   "outputs":[
    {
     "data":{
      "text\/html":[
       "<div>\n",
       "<style scoped>\n",
       "    .dataframe tbody tr th:only-of-type {\n",
       "        vertical-align: middle;\n",
       "    }\n",
       "\n",
       "    .dataframe tbody tr th {\n",
       "        vertical-align: top;\n",
       "    }\n",
       "\n",
       "    .dataframe thead th {\n",
       "        text-align: right;\n",
       "    }\n",
       "<\/style>\n",
       "<table border=\"1\" class=\"dataframe\">\n",
       "  <thead>\n",
       "    <tr style=\"text-align: right;\">\n",
       "      <th><\/th>\n",
       "      <th>Row ID<\/th>\n",
       "      <th>Order ID<\/th>\n",
       "      <th>Order Date<\/th>\n",
       "      <th>Ship Date<\/th>\n",
       "      <th>Ship Mode<\/th>\n",
       "      <th>Customer ID<\/th>\n",
       "      <th>Customer Name<\/th>\n",
       "      <th>Segment<\/th>\n",
       "      <th>Country\/Region<\/th>\n",
       "      <th>City<\/th>\n",
       "      <th>...<\/th>\n",
       "      <th>Postal Code<\/th>\n",
       "      <th>Region<\/th>\n",
       "      <th>Product ID<\/th>\n",
       "      <th>Category<\/th>\n",
       "      <th>Sub-Category<\/th>\n",
       "      <th>Product Name<\/th>\n",
       "      <th>Sales<\/th>\n",
       "      <th>Quantity<\/th>\n",
       "      <th>Discount<\/th>\n",
       "      <th>Profit<\/th>\n",
       "    <\/tr>\n",
       "  <\/thead>\n",
       "  <tbody>\n",
       "    <tr>\n",
       "      <th>2234<\/th>\n",
       "      <td>2235<\/td>\n",
       "      <td>CA-2020-104066<\/td>\n",
       "      <td>2020-12-05<\/td>\n",
       "      <td>2020-12-10<\/td>\n",
       "      <td>Standard Class<\/td>\n",
       "      <td>QJ-19255<\/td>\n",
       "      <td>Quincy Jones<\/td>\n",
       "      <td>Corporate<\/td>\n",
       "      <td>United States<\/td>\n",
       "      <td>Burlington<\/td>\n",
       "      <td>...<\/td>\n",
       "      <td>NaN<\/td>\n",
       "      <td>East<\/td>\n",
       "      <td>TEC-AC-10001013<\/td>\n",
       "      <td>Technology<\/td>\n",
       "      <td>Accessories<\/td>\n",
       "      <td>Logitech ClearChat Comfort\/USB Headset H390<\/td>\n",
       "      <td>205.03<\/td>\n",
       "      <td>7<\/td>\n",
       "      <td>0.0<\/td>\n",
       "      <td>67.6599<\/td>\n",
       "    <\/tr>\n",
       "    <tr>\n",
       "      <th>5274<\/th>\n",
       "      <td>5275<\/td>\n",
       "      <td>CA-2018-162887<\/td>\n",
       "      <td>2018-11-07<\/td>\n",
       "      <td>2018-11-09<\/td>\n",
       "      <td>Second Class<\/td>\n",
       "      <td>SV-20785<\/td>\n",
       "      <td>Stewart Visinsky<\/td>\n",
       "      <td>Consumer<\/td>\n",
       "      <td>United States<\/td>\n",
       "      <td>Burlington<\/td>\n",
       "      <td>...<\/td>\n",
       "      <td>NaN<\/td>\n",
       "      <td>East<\/td>\n",
       "      <td>FUR-CH-10000595<\/td>\n",
       "      <td>Furniture<\/td>\n",
       "      <td>Chairs<\/td>\n",
       "      <td>Safco Contoured Stacking Chairs<\/td>\n",
       "      <td>715.20<\/td>\n",
       "      <td>3<\/td>\n",
       "      <td>0.0<\/td>\n",
       "      <td>178.8000<\/td>\n",
       "    <\/tr>\n",
       "    <tr>\n",
       "      <th>8798<\/th>\n",
       "      <td>8799<\/td>\n",
       "      <td>US-2019-150140<\/td>\n",
       "      <td>2019-04-06<\/td>\n",
       "      <td>2019-04-10<\/td>\n",
       "      <td>Standard Class<\/td>\n",
       "      <td>VM-21685<\/td>\n",
       "      <td>Valerie Mitchum<\/td>\n",
       "      <td>Home Office<\/td>\n",
       "      <td>United States<\/td>\n",
       "      <td>Burlington<\/td>\n",
       "      <td>...<\/td>\n",
       "      <td>NaN<\/td>\n",
       "      <td>East<\/td>\n",
       "      <td>TEC-PH-10002555<\/td>\n",
       "      <td>Technology<\/td>\n",
       "      <td>Phones<\/td>\n",
       "      <td>Nortel Meridian M5316 Digital phone<\/td>\n",
       "      <td>1294.75<\/td>\n",
       "      <td>5<\/td>\n",
       "      <td>0.0<\/td>\n",
       "      <td>336.6350<\/td>\n",
       "    <\/tr>\n",
       "    <tr>\n",
       "      <th>9146<\/th>\n",
       "      <td>9147<\/td>\n",
       "      <td>US-2019-165505<\/td>\n",
       "      <td>2019-01-23<\/td>\n",
       "      <td>2019-01-27<\/td>\n",
       "      <td>Standard Class<\/td>\n",
       "      <td>CB-12535<\/td>\n",
       "      <td>Claudia Bergmann<\/td>\n",
       "      <td>Corporate<\/td>\n",
       "      <td>United States<\/td>\n",
       "      <td>Burlington<\/td>\n",
       "      <td>...<\/td>\n",
       "      <td>NaN<\/td>\n",
       "      <td>East<\/td>\n",
       "      <td>TEC-AC-10002926<\/td>\n",
       "      <td>Technology<\/td>\n",
       "      <td>Accessories<\/td>\n",
       "      <td>Logitech Wireless Marathon Mouse M705<\/td>\n",
       "      <td>99.98<\/td>\n",
       "      <td>2<\/td>\n",
       "      <td>0.0<\/td>\n",
       "      <td>42.9914<\/td>\n",
       "    <\/tr>\n",
       "    <tr>\n",
       "      <th>9147<\/th>\n",
       "      <td>9148<\/td>\n",
       "      <td>US-2019-165505<\/td>\n",
       "      <td>2019-01-23<\/td>\n",
       "      <td>2019-01-27<\/td>\n",
       "      <td>Standard Class<\/td>\n",
       "      <td>CB-12535<\/td>\n",
       "      <td>Claudia Bergmann<\/td>\n",
       "      <td>Corporate<\/td>\n",
       "      <td>United States<\/td>\n",
       "      <td>Burlington<\/td>\n",
       "      <td>...<\/td>\n",
       "      <td>NaN<\/td>\n",
       "      <td>East<\/td>\n",
       "      <td>OFF-AR-10003477<\/td>\n",
       "      <td>Office Supplies<\/td>\n",
       "      <td>Art<\/td>\n",
       "      <td>4009 Highlighters<\/td>\n",
       "      <td>8.04<\/td>\n",
       "      <td>6<\/td>\n",
       "      <td>0.0<\/td>\n",
       "      <td>2.7336<\/td>\n",
       "    <\/tr>\n",
       "    <tr>\n",
       "      <th>9148<\/th>\n",
       "      <td>9149<\/td>\n",
       "      <td>US-2019-165505<\/td>\n",
       "      <td>2019-01-23<\/td>\n",
       "      <td>2019-01-27<\/td>\n",
       "      <td>Standard Class<\/td>\n",
       "      <td>CB-12535<\/td>\n",
       "      <td>Claudia Bergmann<\/td>\n",
       "      <td>Corporate<\/td>\n",
       "      <td>United States<\/td>\n",
       "      <td>Burlington<\/td>\n",
       "      <td>...<\/td>\n",
       "      <td>NaN<\/td>\n",
       "      <td>East<\/td>\n",
       "      <td>OFF-ST-10001526<\/td>\n",
       "      <td>Office Supplies<\/td>\n",
       "      <td>Storage<\/td>\n",
       "      <td>Iceberg Mobile Mega Data\/Printer Cart<\/td>\n",
       "      <td>1564.29<\/td>\n",
       "      <td>13<\/td>\n",
       "      <td>0.0<\/td>\n",
       "      <td>406.7154<\/td>\n",
       "    <\/tr>\n",
       "    <tr>\n",
       "      <th>9386<\/th>\n",
       "      <td>9387<\/td>\n",
       "      <td>US-2020-127292<\/td>\n",
       "      <td>2020-01-19<\/td>\n",
       "      <td>2020-01-23<\/td>\n",
       "      <td>Standard Class<\/td>\n",
       "      <td>RM-19375<\/td>\n",
       "      <td>Raymond Messe<\/td>\n",
       "      <td>Consumer<\/td>\n",
       "      <td>United States<\/td>\n",
       "      <td>Burlington<\/td>\n",
       "      <td>...<\/td>\n",
       "      <td>NaN<\/td>\n",
       "      <td>East<\/td>\n",
       "      <td>OFF-PA-10000157<\/td>\n",
       "      <td>Office Supplies<\/td>\n",
       "      <td>Paper<\/td>\n",
       "      <td>Xerox 191<\/td>\n",
       "      <td>79.92<\/td>\n",
       "      <td>4<\/td>\n",
       "      <td>0.0<\/td>\n",
       "      <td>37.5624<\/td>\n",
       "    <\/tr>\n",
       "    <tr>\n",
       "      <th>9387<\/th>\n",
       "      <td>9388<\/td>\n",
       "      <td>US-2020-127292<\/td>\n",
       "      <td>2020-01-19<\/td>\n",
       "      <td>2020-01-23<\/td>\n",
       "      <td>Standard Class<\/td>\n",
       "      <td>RM-19375<\/td>\n",
       "      <td>Raymond Messe<\/td>\n",
       "      <td>Consumer<\/td>\n",
       "      <td>United States<\/td>\n",
       "      <td>Burlington<\/td>\n",
       "      <td>...<\/td>\n",
       "      <td>NaN<\/td>\n",
       "      <td>East<\/td>\n",
       "      <td>OFF-PA-10001970<\/td>\n",
       "      <td>Office Supplies<\/td>\n",
       "      <td>Paper<\/td>\n",
       "      <td>Xerox 1881<\/td>\n",
       "      <td>12.28<\/td>\n",
       "      <td>1<\/td>\n",
       "      <td>0.0<\/td>\n",
       "      <td>5.7716<\/td>\n",
       "    <\/tr>\n",
       "    <tr>\n",
       "      <th>9388<\/th>\n",
       "      <td>9389<\/td>\n",
       "      <td>US-2020-127292<\/td>\n",
       "      <td>2020-01-19<\/td>\n",
       "      <td>2020-01-23<\/td>\n",
       "      <td>Standard Class<\/td>\n",
       "      <td>RM-19375<\/td>\n",
       "      <td>Raymond Messe<\/td>\n",
       "      <td>Consumer<\/td>\n",
       "      <td>United States<\/td>\n",
       "      <td>Burlington<\/td>\n",
       "      <td>...<\/td>\n",
       "      <td>NaN<\/td>\n",
       "      <td>East<\/td>\n",
       "      <td>OFF-AP-10000828<\/td>\n",
       "      <td>Office Supplies<\/td>\n",
       "      <td>Appliances<\/td>\n",
       "      <td>Avanti 4.4 Cu. Ft. Refrigerator<\/td>\n",
       "      <td>542.94<\/td>\n",
       "      <td>3<\/td>\n",
       "      <td>0.0<\/td>\n",
       "      <td>152.0232<\/td>\n",
       "    <\/tr>\n",
       "    <tr>\n",
       "      <th>9389<\/th>\n",
       "      <td>9390<\/td>\n",
       "      <td>US-2020-127292<\/td>\n",
       "      <td>2020-01-19<\/td>\n",
       "      <td>2020-01-23<\/td>\n",
       "      <td>Standard Class<\/td>\n",
       "      <td>RM-19375<\/td>\n",
       "      <td>Raymond Messe<\/td>\n",
       "      <td>Consumer<\/td>\n",
       "      <td>United States<\/td>\n",
       "      <td>Burlington<\/td>\n",
       "      <td>...<\/td>\n",
       "      <td>NaN<\/td>\n",
       "      <td>East<\/td>\n",
       "      <td>OFF-EN-10001509<\/td>\n",
       "      <td>Office Supplies<\/td>\n",
       "      <td>Envelopes<\/td>\n",
       "      <td>Poly String Tie Envelopes<\/td>\n",
       "      <td>2.04<\/td>\n",
       "      <td>1<\/td>\n",
       "      <td>0.0<\/td>\n",
       "      <td>0.9588<\/td>\n",
       "    <\/tr>\n",
       "    <tr>\n",
       "      <th>9741<\/th>\n",
       "      <td>9742<\/td>\n",
       "      <td>CA-2018-117086<\/td>\n",
       "      <td>2018-11-08<\/td>\n",
       "      <td>2018-11-12<\/td>\n",
       "      <td>Standard Class<\/td>\n",
       "      <td>QJ-19255<\/td>\n",
       "      <td>Quincy Jones<\/td>\n",
       "      <td>Corporate<\/td>\n",
       "      <td>United States<\/td>\n",
       "      <td>Burlington<\/td>\n",
       "      <td>...<\/td>\n",
       "      <td>NaN<\/td>\n",
       "      <td>East<\/td>\n",
       "      <td>FUR-BO-10004834<\/td>\n",
       "      <td>Furniture<\/td>\n",
       "      <td>Bookcases<\/td>\n",
       "      <td>Riverside Palais Royal Lawyers Bookcase, Royal...<\/td>\n",
       "      <td>4404.90<\/td>\n",
       "      <td>5<\/td>\n",
       "      <td>0.0<\/td>\n",
       "      <td>1013.1270<\/td>\n",
       "    <\/tr>\n",
       "  <\/tbody>\n",
       "<\/table>\n",
       "<p>11 rows × 21 columns<\/p>\n",
       "<\/div>"
      ]
     },
     "metadata":{
      
     },
     "output_type":"display_data"
    }
   ],
   "metadata":{
    "datalore":{
     "node_id":"yehpCvySJL15b17AqoxoRM",
     "type":"CODE",
     "hide_input_from_viewers":false,
     "hide_output_from_viewers":false,
     "report_properties":{
      "rowId":"NyHnb7O9xdyS0NL4h23zn6"
     }
    }
   }
  },
  {
   "cell_type":"code",
   "source":[
    "# TODO - Explore this dataset on your owns, ask your own questions\n",
    "#clean_df.isna().sum()\n",
    "print(df['Category'].unique())"
   ],
   "execution_count":9,
   "outputs":[
    {
     "name":"stdout",
     "text":[
      "['Furniture' 'Office Supplies' 'Technology']\n"
     ],
     "output_type":"stream"
    }
   ],
   "metadata":{
    "datalore":{
     "node_id":"6tWdKXBcztEhngAIBFS42N",
     "type":"CODE",
     "hide_input_from_viewers":false,
     "hide_output_from_viewers":false,
     "report_properties":{
      "rowId":"9UVk2YPkwP8FDHRT8GAAnc"
     }
    }
   }
  },
  {
   "cell_type":"code",
   "source":[
    "# Explore Category and Sub-Category\n",
    "print(df['Sub-Category'].unique())"
   ],
   "execution_count":10,
   "outputs":[
    {
     "name":"stdout",
     "text":[
      "['Bookcases' 'Chairs' 'Labels' 'Tables' 'Storage' 'Furnishings' 'Art'\n",
      " 'Phones' 'Binders' 'Appliances' 'Paper' 'Accessories' 'Envelopes'\n",
      " 'Fasteners' 'Supplies' 'Machines' 'Copiers']\n"
     ],
     "output_type":"stream"
    }
   ],
   "metadata":{
    "datalore":{
     "node_id":"7jtu0zkKazo2XWElL1GwD5",
     "type":"CODE",
     "hide_input_from_viewers":true,
     "hide_output_from_viewers":true
    }
   }
  },
  {
   "cell_type":"code",
   "source":[
    "table = df[['Category', 'Sub-Category']].value_counts().reset_index()\n",
    "table.columns = ['Category', 'Sub-Category', 'Count']\n",
    "table"
   ],
   "execution_count":11,
   "outputs":[
    {
     "data":{
      "text\/html":[
       "<div>\n",
       "<style scoped>\n",
       "    .dataframe tbody tr th:only-of-type {\n",
       "        vertical-align: middle;\n",
       "    }\n",
       "\n",
       "    .dataframe tbody tr th {\n",
       "        vertical-align: top;\n",
       "    }\n",
       "\n",
       "    .dataframe thead th {\n",
       "        text-align: right;\n",
       "    }\n",
       "<\/style>\n",
       "<table border=\"1\" class=\"dataframe\">\n",
       "  <thead>\n",
       "    <tr style=\"text-align: right;\">\n",
       "      <th><\/th>\n",
       "      <th>Category<\/th>\n",
       "      <th>Sub-Category<\/th>\n",
       "      <th>Count<\/th>\n",
       "    <\/tr>\n",
       "  <\/thead>\n",
       "  <tbody>\n",
       "    <tr>\n",
       "      <th>0<\/th>\n",
       "      <td>Office Supplies<\/td>\n",
       "      <td>Binders<\/td>\n",
       "      <td>1523<\/td>\n",
       "    <\/tr>\n",
       "    <tr>\n",
       "      <th>1<\/th>\n",
       "      <td>Office Supplies<\/td>\n",
       "      <td>Paper<\/td>\n",
       "      <td>1370<\/td>\n",
       "    <\/tr>\n",
       "    <tr>\n",
       "      <th>2<\/th>\n",
       "      <td>Furniture<\/td>\n",
       "      <td>Furnishings<\/td>\n",
       "      <td>957<\/td>\n",
       "    <\/tr>\n",
       "    <tr>\n",
       "      <th>3<\/th>\n",
       "      <td>Technology<\/td>\n",
       "      <td>Phones<\/td>\n",
       "      <td>889<\/td>\n",
       "    <\/tr>\n",
       "    <tr>\n",
       "      <th>4<\/th>\n",
       "      <td>Office Supplies<\/td>\n",
       "      <td>Storage<\/td>\n",
       "      <td>846<\/td>\n",
       "    <\/tr>\n",
       "    <tr>\n",
       "      <th>5<\/th>\n",
       "      <td>Office Supplies<\/td>\n",
       "      <td>Art<\/td>\n",
       "      <td>796<\/td>\n",
       "    <\/tr>\n",
       "    <tr>\n",
       "      <th>6<\/th>\n",
       "      <td>Technology<\/td>\n",
       "      <td>Accessories<\/td>\n",
       "      <td>775<\/td>\n",
       "    <\/tr>\n",
       "    <tr>\n",
       "      <th>7<\/th>\n",
       "      <td>Furniture<\/td>\n",
       "      <td>Chairs<\/td>\n",
       "      <td>617<\/td>\n",
       "    <\/tr>\n",
       "    <tr>\n",
       "      <th>8<\/th>\n",
       "      <td>Office Supplies<\/td>\n",
       "      <td>Appliances<\/td>\n",
       "      <td>466<\/td>\n",
       "    <\/tr>\n",
       "    <tr>\n",
       "      <th>9<\/th>\n",
       "      <td>Office Supplies<\/td>\n",
       "      <td>Labels<\/td>\n",
       "      <td>364<\/td>\n",
       "    <\/tr>\n",
       "    <tr>\n",
       "      <th>10<\/th>\n",
       "      <td>Furniture<\/td>\n",
       "      <td>Tables<\/td>\n",
       "      <td>319<\/td>\n",
       "    <\/tr>\n",
       "    <tr>\n",
       "      <th>11<\/th>\n",
       "      <td>Office Supplies<\/td>\n",
       "      <td>Envelopes<\/td>\n",
       "      <td>254<\/td>\n",
       "    <\/tr>\n",
       "    <tr>\n",
       "      <th>12<\/th>\n",
       "      <td>Furniture<\/td>\n",
       "      <td>Bookcases<\/td>\n",
       "      <td>228<\/td>\n",
       "    <\/tr>\n",
       "    <tr>\n",
       "      <th>13<\/th>\n",
       "      <td>Office Supplies<\/td>\n",
       "      <td>Fasteners<\/td>\n",
       "      <td>217<\/td>\n",
       "    <\/tr>\n",
       "    <tr>\n",
       "      <th>14<\/th>\n",
       "      <td>Office Supplies<\/td>\n",
       "      <td>Supplies<\/td>\n",
       "      <td>190<\/td>\n",
       "    <\/tr>\n",
       "    <tr>\n",
       "      <th>15<\/th>\n",
       "      <td>Technology<\/td>\n",
       "      <td>Machines<\/td>\n",
       "      <td>115<\/td>\n",
       "    <\/tr>\n",
       "    <tr>\n",
       "      <th>16<\/th>\n",
       "      <td>Technology<\/td>\n",
       "      <td>Copiers<\/td>\n",
       "      <td>68<\/td>\n",
       "    <\/tr>\n",
       "  <\/tbody>\n",
       "<\/table>\n",
       "<\/div>"
      ]
     },
     "metadata":{
      
     },
     "output_type":"display_data"
    }
   ],
   "metadata":{
    "datalore":{
     "node_id":"4lX0xtQG3ft3031YX5NPxh",
     "type":"CODE",
     "hide_input_from_viewers":true,
     "hide_output_from_viewers":true
    }
   }
  },
  {
   "cell_type":"markdown",
   "source":[
    "## Data Analysis Part\n",
    "\n",
    "Answer 10 below questions to get credit from this course. Write `pandas` code to find answers."
   ],
   "attachments":{
    
   },
   "metadata":{
    "datalore":{
     "node_id":"wskReIoEMKSNc5laPEfp4B",
     "type":"MD",
     "hide_input_from_viewers":false,
     "hide_output_from_viewers":false,
     "report_properties":{
      "rowId":"Jcxc2CThCoOPtWyME99YiG"
     }
    }
   }
  },
  {
   "cell_type":"code",
   "source":[
    "# TODO 01 - how many columns, rows in this dataset\n",
    "df.shape"
   ],
   "execution_count":12,
   "outputs":[
    {
     "data":{
      "text\/plain":[
       "(9994, 21)"
      ]
     },
     "metadata":{
      
     },
     "output_type":"display_data"
    }
   ],
   "metadata":{
    "datalore":{
     "node_id":"HqUAwd2ly3i9piN4BOGYhr",
     "type":"CODE",
     "hide_input_from_viewers":false,
     "hide_output_from_viewers":false,
     "report_properties":{
      "rowId":"x3i9Jtl5ddNUAKbUkSjy8v"
     }
    }
   }
  },
  {
   "cell_type":"code",
   "source":[
    "# TODO 02 - is there any missing values?, if there is, which colunm? how many nan values?\n",
    "df.isna().sum()"
   ],
   "execution_count":28,
   "outputs":[
    {
     "data":{
      "text\/html":[
       "<pre>Row ID             0\n",
       "Order ID           0\n",
       "Order Date         0\n",
       "Ship Date          0\n",
       "Ship Mode          0\n",
       "Customer ID        0\n",
       "Customer Name      0\n",
       "Segment            0\n",
       "Country\/Region     0\n",
       "City               0\n",
       "State              0\n",
       "Postal Code       11\n",
       "Region             0\n",
       "Product ID         0\n",
       "Category           0\n",
       "Sub-Category       0\n",
       "Product Name       0\n",
       "Sales              0\n",
       "Quantity           0\n",
       "Discount           0\n",
       "Profit             0\n",
       "Total Sales        0\n",
       "Net Profit         0\n",
       "dtype: int64<\/pre>"
      ]
     },
     "metadata":{
      
     },
     "output_type":"display_data"
    }
   ],
   "metadata":{
    "datalore":{
     "node_id":"WOoKfDKUf8BpuRg15pi0hk",
     "type":"CODE",
     "hide_input_from_viewers":false,
     "hide_output_from_viewers":false,
     "report_properties":{
      "rowId":"3pbdybsFDzdekCseDx4C1A"
     }
    }
   }
  },
  {
   "cell_type":"code",
   "source":[
    "# TODO 03 - your friend ask for `California` data, filter it and export csv for him\n",
    "filter_df = df[df['State'] == 'California']\n",
    "filter_df.to_csv('California.csv')"
   ],
   "execution_count":14,
   "outputs":[
    
   ],
   "metadata":{
    "datalore":{
     "node_id":"Q13391ScRmMZgTfUydjwpB",
     "type":"CODE",
     "hide_input_from_viewers":false,
     "hide_output_from_viewers":false,
     "report_properties":{
      "rowId":"nmQ9VpMz4r4T9k1vzQAelP"
     }
    }
   }
  },
  {
   "cell_type":"code",
   "source":[
    "# TODO 04 - your friend ask for all order data in `California` and `Texas` in 2017 (look at Order Date), send him csv file\n",
    "# df[(df['State'] == 'California') & (df['State'] == 'Texas') ]\n",
    "#df[(df['State'] == 'California' | df['State'] == 'Texas')  & (df['Order Date'].dt.year == 2017)]\n",
    "filter_df2 = df.query('State == \"California\"|State == \"Texas\"')\n",
    "filter_df2 = filter_df2[filter_df2['Order Date'].dt.year == 2017]\n",
    "filter_df2.to_csv('California_Texas_2017.csv')"
   ],
   "execution_count":15,
   "outputs":[
    
   ],
   "metadata":{
    "datalore":{
     "node_id":"zcBvJmkadQqhHBt6nukftq",
     "type":"CODE",
     "hide_input_from_viewers":false,
     "hide_output_from_viewers":false,
     "report_properties":{
      "rowId":"H3pSTzCXejArj1xQkBvVIk"
     }
    }
   }
  },
  {
   "cell_type":"code",
   "source":[
    "# TODO 05 - how much total sales, average sales, and standard deviation of sales your company make in 2017\n",
    "import numpy as np\n",
    "df_2017 = df[df['Order Date'].dt.year == 2017]\n",
    "total_sales = np.sum(df_2017['Sales'])\n",
    "avg_sales = np.mean(df_2017['Sales'])\n",
    "std_sales = np.std(df_2017['Sales'])\n",
    "print(f\"total_sales: {total_sales}\\navg_sales: {avg_sales}\\nstd_sales: {std_sales}\")"
   ],
   "execution_count":16,
   "outputs":[
    {
     "name":"stdout",
     "text":[
      "total_sales: 484247.4981\n",
      "avg_sales: 242.97415860511794\n",
      "std_sales: 753.8641580700248\n"
     ],
     "output_type":"stream"
    }
   ],
   "metadata":{
    "datalore":{
     "node_id":"vEDy9Gazvyattid9TWsi0M",
     "type":"CODE",
     "hide_input_from_viewers":false,
     "hide_output_from_viewers":false,
     "report_properties":{
      "rowId":"OaN4wBsioDqyhYSPbObr6M"
     }
    }
   }
  },
  {
   "cell_type":"code",
   "source":[
    "# TODO 06 - which Segment has the highest profit in 2018\n",
    "df_2018 = df[df['Order Date'].dt.year == 2018]\n",
    "Segment_2018 = df_2018.groupby('Segment')['Profit'].sum()\n",
    "Segment_2018"
   ],
   "execution_count":17,
   "outputs":[
    {
     "data":{
      "text\/html":[
       "<pre>Segment\n",
       "Consumer       28460.1665\n",
       "Corporate      20688.3248\n",
       "Home Office    12470.1124\n",
       "Name: Profit, dtype: float64<\/pre>"
      ]
     },
     "metadata":{
      
     },
     "output_type":"display_data"
    }
   ],
   "metadata":{
    "datalore":{
     "node_id":"ZIFdiXDh8KQFph9SrqdbSS",
     "type":"CODE",
     "hide_input_from_viewers":false,
     "hide_output_from_viewers":false,
     "report_properties":{
      "rowId":"NolkR1Zkln4GjZcDWqSUBB"
     }
    }
   }
  },
  {
   "cell_type":"code",
   "source":[
    "#Print index position of maximum\n",
    "print(Segment_2018.idxmax())"
   ],
   "execution_count":18,
   "outputs":[
    {
     "name":"stdout",
     "text":[
      "Consumer\n"
     ],
     "output_type":"stream"
    }
   ],
   "metadata":{
    "datalore":{
     "node_id":"ANNRp3AtiarvXRWAKHFcYJ",
     "type":"CODE",
     "hide_input_from_viewers":true,
     "hide_output_from_viewers":true
    }
   }
  },
  {
   "cell_type":"code",
   "source":[
    "# TODO 07 - which top 5 States have the least total sales between 15 April 2019 - 31 December 2019\n",
    "new_df = df\n",
    "new_df['Order Date'] = pd.to_datetime(new_df['Order Date'], format='%m\/%d\/%Y')\n",
    "new_df['Ship Date'] = pd.to_datetime(new_df['Ship Date'], format='%m\/%d\/%Y')\n",
    "new_df"
   ],
   "execution_count":29,
   "outputs":[
    {
     "data":{
      "text\/html":[
       "<div>\n",
       "<style scoped>\n",
       "    .dataframe tbody tr th:only-of-type {\n",
       "        vertical-align: middle;\n",
       "    }\n",
       "\n",
       "    .dataframe tbody tr th {\n",
       "        vertical-align: top;\n",
       "    }\n",
       "\n",
       "    .dataframe thead th {\n",
       "        text-align: right;\n",
       "    }\n",
       "<\/style>\n",
       "<table border=\"1\" class=\"dataframe\">\n",
       "  <thead>\n",
       "    <tr style=\"text-align: right;\">\n",
       "      <th><\/th>\n",
       "      <th>Row ID<\/th>\n",
       "      <th>Order ID<\/th>\n",
       "      <th>Order Date<\/th>\n",
       "      <th>Ship Date<\/th>\n",
       "      <th>Ship Mode<\/th>\n",
       "      <th>Customer ID<\/th>\n",
       "      <th>Customer Name<\/th>\n",
       "      <th>Segment<\/th>\n",
       "      <th>Country\/Region<\/th>\n",
       "      <th>City<\/th>\n",
       "      <th>...<\/th>\n",
       "      <th>Product ID<\/th>\n",
       "      <th>Category<\/th>\n",
       "      <th>Sub-Category<\/th>\n",
       "      <th>Product Name<\/th>\n",
       "      <th>Sales<\/th>\n",
       "      <th>Quantity<\/th>\n",
       "      <th>Discount<\/th>\n",
       "      <th>Profit<\/th>\n",
       "      <th>Total Sales<\/th>\n",
       "      <th>Net Profit<\/th>\n",
       "    <\/tr>\n",
       "  <\/thead>\n",
       "  <tbody>\n",
       "    <tr>\n",
       "      <th>0<\/th>\n",
       "      <td>1<\/td>\n",
       "      <td>CA-2019-152156<\/td>\n",
       "      <td>2019-11-08<\/td>\n",
       "      <td>2019-11-11<\/td>\n",
       "      <td>Second Class<\/td>\n",
       "      <td>CG-12520<\/td>\n",
       "      <td>Claire Gute<\/td>\n",
       "      <td>Consumer<\/td>\n",
       "      <td>United States<\/td>\n",
       "      <td>Henderson<\/td>\n",
       "      <td>...<\/td>\n",
       "      <td>FUR-BO-10001798<\/td>\n",
       "      <td>Furniture<\/td>\n",
       "      <td>Bookcases<\/td>\n",
       "      <td>Bush Somerset Collection Bookcase<\/td>\n",
       "      <td>261.9600<\/td>\n",
       "      <td>2<\/td>\n",
       "      <td>0.00<\/td>\n",
       "      <td>41.9136<\/td>\n",
       "      <td>523.9200<\/td>\n",
       "      <td>Profit<\/td>\n",
       "    <\/tr>\n",
       "    <tr>\n",
       "      <th>1<\/th>\n",
       "      <td>2<\/td>\n",
       "      <td>CA-2019-152156<\/td>\n",
       "      <td>2019-11-08<\/td>\n",
       "      <td>2019-11-11<\/td>\n",
       "      <td>Second Class<\/td>\n",
       "      <td>CG-12520<\/td>\n",
       "      <td>Claire Gute<\/td>\n",
       "      <td>Consumer<\/td>\n",
       "      <td>United States<\/td>\n",
       "      <td>Henderson<\/td>\n",
       "      <td>...<\/td>\n",
       "      <td>FUR-CH-10000454<\/td>\n",
       "      <td>Furniture<\/td>\n",
       "      <td>Chairs<\/td>\n",
       "      <td>Hon Deluxe Fabric Upholstered Stacking Chairs,...<\/td>\n",
       "      <td>731.9400<\/td>\n",
       "      <td>3<\/td>\n",
       "      <td>0.00<\/td>\n",
       "      <td>219.5820<\/td>\n",
       "      <td>2195.8200<\/td>\n",
       "      <td>Profit<\/td>\n",
       "    <\/tr>\n",
       "    <tr>\n",
       "      <th>2<\/th>\n",
       "      <td>3<\/td>\n",
       "      <td>CA-2019-138688<\/td>\n",
       "      <td>2019-06-12<\/td>\n",
       "      <td>2019-06-16<\/td>\n",
       "      <td>Second Class<\/td>\n",
       "      <td>DV-13045<\/td>\n",
       "      <td>Darrin Van Huff<\/td>\n",
       "      <td>Corporate<\/td>\n",
       "      <td>United States<\/td>\n",
       "      <td>Los Angeles<\/td>\n",
       "      <td>...<\/td>\n",
       "      <td>OFF-LA-10000240<\/td>\n",
       "      <td>Office Supplies<\/td>\n",
       "      <td>Labels<\/td>\n",
       "      <td>Self-Adhesive Address Labels for Typewriters b...<\/td>\n",
       "      <td>14.6200<\/td>\n",
       "      <td>2<\/td>\n",
       "      <td>0.00<\/td>\n",
       "      <td>6.8714<\/td>\n",
       "      <td>29.2400<\/td>\n",
       "      <td>Profit<\/td>\n",
       "    <\/tr>\n",
       "    <tr>\n",
       "      <th>3<\/th>\n",
       "      <td>4<\/td>\n",
       "      <td>US-2018-108966<\/td>\n",
       "      <td>2018-10-11<\/td>\n",
       "      <td>2018-10-18<\/td>\n",
       "      <td>Standard Class<\/td>\n",
       "      <td>SO-20335<\/td>\n",
       "      <td>Sean O'Donnell<\/td>\n",
       "      <td>Consumer<\/td>\n",
       "      <td>United States<\/td>\n",
       "      <td>Fort Lauderdale<\/td>\n",
       "      <td>...<\/td>\n",
       "      <td>FUR-TA-10000577<\/td>\n",
       "      <td>Furniture<\/td>\n",
       "      <td>Tables<\/td>\n",
       "      <td>Bretford CR4500 Series Slim Rectangular Table<\/td>\n",
       "      <td>957.5775<\/td>\n",
       "      <td>5<\/td>\n",
       "      <td>0.45<\/td>\n",
       "      <td>-383.0310<\/td>\n",
       "      <td>4787.8875<\/td>\n",
       "      <td>Loss<\/td>\n",
       "    <\/tr>\n",
       "    <tr>\n",
       "      <th>4<\/th>\n",
       "      <td>5<\/td>\n",
       "      <td>US-2018-108966<\/td>\n",
       "      <td>2018-10-11<\/td>\n",
       "      <td>2018-10-18<\/td>\n",
       "      <td>Standard Class<\/td>\n",
       "      <td>SO-20335<\/td>\n",
       "      <td>Sean O'Donnell<\/td>\n",
       "      <td>Consumer<\/td>\n",
       "      <td>United States<\/td>\n",
       "      <td>Fort Lauderdale<\/td>\n",
       "      <td>...<\/td>\n",
       "      <td>OFF-ST-10000760<\/td>\n",
       "      <td>Office Supplies<\/td>\n",
       "      <td>Storage<\/td>\n",
       "      <td>Eldon Fold 'N Roll Cart System<\/td>\n",
       "      <td>22.3680<\/td>\n",
       "      <td>2<\/td>\n",
       "      <td>0.20<\/td>\n",
       "      <td>2.5164<\/td>\n",
       "      <td>44.7360<\/td>\n",
       "      <td>Profit<\/td>\n",
       "    <\/tr>\n",
       "    <tr>\n",
       "      <th>...<\/th>\n",
       "      <td>...<\/td>\n",
       "      <td>...<\/td>\n",
       "      <td>...<\/td>\n",
       "      <td>...<\/td>\n",
       "      <td>...<\/td>\n",
       "      <td>...<\/td>\n",
       "      <td>...<\/td>\n",
       "      <td>...<\/td>\n",
       "      <td>...<\/td>\n",
       "      <td>...<\/td>\n",
       "      <td>...<\/td>\n",
       "      <td>...<\/td>\n",
       "      <td>...<\/td>\n",
       "      <td>...<\/td>\n",
       "      <td>...<\/td>\n",
       "      <td>...<\/td>\n",
       "      <td>...<\/td>\n",
       "      <td>...<\/td>\n",
       "      <td>...<\/td>\n",
       "      <td>...<\/td>\n",
       "      <td>...<\/td>\n",
       "    <\/tr>\n",
       "    <tr>\n",
       "      <th>9989<\/th>\n",
       "      <td>9990<\/td>\n",
       "      <td>CA-2017-110422<\/td>\n",
       "      <td>2017-01-21<\/td>\n",
       "      <td>2017-01-23<\/td>\n",
       "      <td>Second Class<\/td>\n",
       "      <td>TB-21400<\/td>\n",
       "      <td>Tom Boeckenhauer<\/td>\n",
       "      <td>Consumer<\/td>\n",
       "      <td>United States<\/td>\n",
       "      <td>Miami<\/td>\n",
       "      <td>...<\/td>\n",
       "      <td>FUR-FU-10001889<\/td>\n",
       "      <td>Furniture<\/td>\n",
       "      <td>Furnishings<\/td>\n",
       "      <td>Ultra Door Pull Handle<\/td>\n",
       "      <td>25.2480<\/td>\n",
       "      <td>3<\/td>\n",
       "      <td>0.20<\/td>\n",
       "      <td>4.1028<\/td>\n",
       "      <td>75.7440<\/td>\n",
       "      <td>Profit<\/td>\n",
       "    <\/tr>\n",
       "    <tr>\n",
       "      <th>9990<\/th>\n",
       "      <td>9991<\/td>\n",
       "      <td>CA-2020-121258<\/td>\n",
       "      <td>2020-02-26<\/td>\n",
       "      <td>2020-03-03<\/td>\n",
       "      <td>Standard Class<\/td>\n",
       "      <td>DB-13060<\/td>\n",
       "      <td>Dave Brooks<\/td>\n",
       "      <td>Consumer<\/td>\n",
       "      <td>United States<\/td>\n",
       "      <td>Costa Mesa<\/td>\n",
       "      <td>...<\/td>\n",
       "      <td>FUR-FU-10000747<\/td>\n",
       "      <td>Furniture<\/td>\n",
       "      <td>Furnishings<\/td>\n",
       "      <td>Tenex B1-RE Series Chair Mats for Low Pile Car...<\/td>\n",
       "      <td>91.9600<\/td>\n",
       "      <td>2<\/td>\n",
       "      <td>0.00<\/td>\n",
       "      <td>15.6332<\/td>\n",
       "      <td>183.9200<\/td>\n",
       "      <td>Profit<\/td>\n",
       "    <\/tr>\n",
       "    <tr>\n",
       "      <th>9991<\/th>\n",
       "      <td>9992<\/td>\n",
       "      <td>CA-2020-121258<\/td>\n",
       "      <td>2020-02-26<\/td>\n",
       "      <td>2020-03-03<\/td>\n",
       "      <td>Standard Class<\/td>\n",
       "      <td>DB-13060<\/td>\n",
       "      <td>Dave Brooks<\/td>\n",
       "      <td>Consumer<\/td>\n",
       "      <td>United States<\/td>\n",
       "      <td>Costa Mesa<\/td>\n",
       "      <td>...<\/td>\n",
       "      <td>TEC-PH-10003645<\/td>\n",
       "      <td>Technology<\/td>\n",
       "      <td>Phones<\/td>\n",
       "      <td>Aastra 57i VoIP phone<\/td>\n",
       "      <td>258.5760<\/td>\n",
       "      <td>2<\/td>\n",
       "      <td>0.20<\/td>\n",
       "      <td>19.3932<\/td>\n",
       "      <td>517.1520<\/td>\n",
       "      <td>Profit<\/td>\n",
       "    <\/tr>\n",
       "    <tr>\n",
       "      <th>9992<\/th>\n",
       "      <td>9993<\/td>\n",
       "      <td>CA-2020-121258<\/td>\n",
       "      <td>2020-02-26<\/td>\n",
       "      <td>2020-03-03<\/td>\n",
       "      <td>Standard Class<\/td>\n",
       "      <td>DB-13060<\/td>\n",
       "      <td>Dave Brooks<\/td>\n",
       "      <td>Consumer<\/td>\n",
       "      <td>United States<\/td>\n",
       "      <td>Costa Mesa<\/td>\n",
       "      <td>...<\/td>\n",
       "      <td>OFF-PA-10004041<\/td>\n",
       "      <td>Office Supplies<\/td>\n",
       "      <td>Paper<\/td>\n",
       "      <td>It's Hot Message Books with Stickers, 2 3\/4\" x 5\"<\/td>\n",
       "      <td>29.6000<\/td>\n",
       "      <td>4<\/td>\n",
       "      <td>0.00<\/td>\n",
       "      <td>13.3200<\/td>\n",
       "      <td>118.4000<\/td>\n",
       "      <td>Profit<\/td>\n",
       "    <\/tr>\n",
       "    <tr>\n",
       "      <th>9993<\/th>\n",
       "      <td>9994<\/td>\n",
       "      <td>CA-2020-119914<\/td>\n",
       "      <td>2020-05-04<\/td>\n",
       "      <td>2020-05-09<\/td>\n",
       "      <td>Second Class<\/td>\n",
       "      <td>CC-12220<\/td>\n",
       "      <td>Chris Cortes<\/td>\n",
       "      <td>Consumer<\/td>\n",
       "      <td>United States<\/td>\n",
       "      <td>Westminster<\/td>\n",
       "      <td>...<\/td>\n",
       "      <td>OFF-AP-10002684<\/td>\n",
       "      <td>Office Supplies<\/td>\n",
       "      <td>Appliances<\/td>\n",
       "      <td>Acco 7-Outlet Masterpiece Power Center, Wihtou...<\/td>\n",
       "      <td>243.1600<\/td>\n",
       "      <td>2<\/td>\n",
       "      <td>0.00<\/td>\n",
       "      <td>72.9480<\/td>\n",
       "      <td>486.3200<\/td>\n",
       "      <td>Profit<\/td>\n",
       "    <\/tr>\n",
       "  <\/tbody>\n",
       "<\/table>\n",
       "<p>9994 rows × 23 columns<\/p>\n",
       "<\/div>"
      ]
     },
     "metadata":{
      
     },
     "output_type":"display_data"
    }
   ],
   "metadata":{
    "datalore":{
     "node_id":"dLaZQu4H9B13lvz0gpDkoJ",
     "type":"CODE",
     "hide_input_from_viewers":false,
     "hide_output_from_viewers":false,
     "report_properties":{
      "rowId":"0VemA0hFTGXBSIGL4xs9xs"
     }
    }
   }
  },
  {
   "cell_type":"code",
   "source":[
    "flt_df = new_df.loc[(new_df['Order Date'] >= '2019-04-15') & (new_df['Order Date'] <= '2019-12-31')]\n",
    "flt_df.groupby('State')['Sales'].sum().reset_index().sort_values('Sales').head(5)"
   ],
   "execution_count":30,
   "outputs":[
    {
     "data":{
      "text\/html":[
       "<div>\n",
       "<style scoped>\n",
       "    .dataframe tbody tr th:only-of-type {\n",
       "        vertical-align: middle;\n",
       "    }\n",
       "\n",
       "    .dataframe tbody tr th {\n",
       "        vertical-align: top;\n",
       "    }\n",
       "\n",
       "    .dataframe thead th {\n",
       "        text-align: right;\n",
       "    }\n",
       "<\/style>\n",
       "<table border=\"1\" class=\"dataframe\">\n",
       "  <thead>\n",
       "    <tr style=\"text-align: right;\">\n",
       "      <th><\/th>\n",
       "      <th>State<\/th>\n",
       "      <th>Sales<\/th>\n",
       "    <\/tr>\n",
       "  <\/thead>\n",
       "  <tbody>\n",
       "    <tr>\n",
       "      <th>26<\/th>\n",
       "      <td>New Hampshire<\/td>\n",
       "      <td>49.05<\/td>\n",
       "    <\/tr>\n",
       "    <tr>\n",
       "      <th>28<\/th>\n",
       "      <td>New Mexico<\/td>\n",
       "      <td>64.08<\/td>\n",
       "    <\/tr>\n",
       "    <tr>\n",
       "      <th>7<\/th>\n",
       "      <td>District of Columbia<\/td>\n",
       "      <td>117.07<\/td>\n",
       "    <\/tr>\n",
       "    <tr>\n",
       "      <th>16<\/th>\n",
       "      <td>Louisiana<\/td>\n",
       "      <td>249.80<\/td>\n",
       "    <\/tr>\n",
       "    <tr>\n",
       "      <th>36<\/th>\n",
       "      <td>South Carolina<\/td>\n",
       "      <td>502.48<\/td>\n",
       "    <\/tr>\n",
       "  <\/tbody>\n",
       "<\/table>\n",
       "<\/div>"
      ]
     },
     "metadata":{
      
     },
     "output_type":"display_data"
    }
   ],
   "metadata":{
    "datalore":{
     "node_id":"zxro90HB22kAkbBRaxWvS1",
     "type":"CODE",
     "hide_input_from_viewers":true,
     "hide_output_from_viewers":true
    }
   }
  },
  {
   "cell_type":"code",
   "source":[
    "# TODO 08 - what is the proportion of total sales (%) in West + Central in 2019 e.g. 25%\n",
    "WC_df = new_df.query('Region == \"West\" | Region == \"Central\"')\n",
    "\n",
    "# calculate total sales in 2019\n",
    "total_sales_2019 = new_df[new_df['Order Date'].dt.year == 2019]['Sales'].sum()\n",
    "\n",
    "#calculate the proportion of total sales (%) in West + Central in 2019\n",
    "proportion = ((WC_df[WC_df['Order Date'].dt.year == 2019]['Sales'].sum())\/total_sales_2019)*100\n",
    "print(f\"proportion of total sales (%) in West + Central in 2019: {proportion.__round__(2)}\" +'%')"
   ],
   "execution_count":21,
   "outputs":[
    {
     "name":"stdout",
     "text":[
      "proportion of total sales (%) in West + Central in 2019: 54.97%\n"
     ],
     "output_type":"stream"
    }
   ],
   "metadata":{
    "datalore":{
     "node_id":"Zv6PDiYu3bCYY5PqQ8m89N",
     "type":"CODE",
     "hide_input_from_viewers":false,
     "hide_output_from_viewers":false,
     "report_properties":{
      "rowId":"39AZ8mPOfbKPm6ITqBarGZ"
     }
    }
   }
  },
  {
   "cell_type":"code",
   "source":[
    "# TODO 09 - find top 10 popular products in terms of number of orders vs. total sales during 2019-2020\n",
    "df_2019_2020 = new_df[(new_df['Order Date'].dt.year == 2019) | (new_df['Order Date'].dt.year == 2020)]\n",
    "df_top10 = df_2019_2020.groupby('Product Name')[['Sales', 'Quantity']].sum().reset_index()\n",
    "df_top10['Total Sales'] = df_top10['Sales'] * df_top10['Quantity']\n",
    "df_top10.sort_values('Total Sales', ascending=False).head(10)"
   ],
   "execution_count":31,
   "outputs":[
    {
     "data":{
      "text\/html":[
       "<div>\n",
       "<style scoped>\n",
       "    .dataframe tbody tr th:only-of-type {\n",
       "        vertical-align: middle;\n",
       "    }\n",
       "\n",
       "    .dataframe tbody tr th {\n",
       "        vertical-align: top;\n",
       "    }\n",
       "\n",
       "    .dataframe thead th {\n",
       "        text-align: right;\n",
       "    }\n",
       "<\/style>\n",
       "<table border=\"1\" class=\"dataframe\">\n",
       "  <thead>\n",
       "    <tr style=\"text-align: right;\">\n",
       "      <th><\/th>\n",
       "      <th>Product Name<\/th>\n",
       "      <th>Sales<\/th>\n",
       "      <th>Quantity<\/th>\n",
       "      <th>Total Sales<\/th>\n",
       "    <\/tr>\n",
       "  <\/thead>\n",
       "  <tbody>\n",
       "    <tr>\n",
       "      <th>388<\/th>\n",
       "      <td>Canon imageCLASS 2200 Advanced Copier<\/td>\n",
       "      <td>61599.824<\/td>\n",
       "      <td>20<\/td>\n",
       "      <td>1231996.480<\/td>\n",
       "    <\/tr>\n",
       "    <tr>\n",
       "      <th>765<\/th>\n",
       "      <td>Hewlett Packard LaserJet 3310 Copier<\/td>\n",
       "      <td>16079.732<\/td>\n",
       "      <td>31<\/td>\n",
       "      <td>498471.692<\/td>\n",
       "    <\/tr>\n",
       "    <tr>\n",
       "      <th>411<\/th>\n",
       "      <td>Chromcraft Round Conference Tables<\/td>\n",
       "      <td>7965.053<\/td>\n",
       "      <td>59<\/td>\n",
       "      <td>469938.127<\/td>\n",
       "    <\/tr>\n",
       "    <tr>\n",
       "      <th>651<\/th>\n",
       "      <td>GBC Ibimaster 500 Manual ProClick Binding System<\/td>\n",
       "      <td>13621.542<\/td>\n",
       "      <td>31<\/td>\n",
       "      <td>422267.802<\/td>\n",
       "    <\/tr>\n",
       "    <tr>\n",
       "      <th>1310<\/th>\n",
       "      <td>Samsung Galaxy Mega 6.3<\/td>\n",
       "      <td>12263.708<\/td>\n",
       "      <td>34<\/td>\n",
       "      <td>416966.072<\/td>\n",
       "    <\/tr>\n",
       "    <tr>\n",
       "      <th>794<\/th>\n",
       "      <td>Hon Deluxe Fabric Upholstered Stacking Chairs,...<\/td>\n",
       "      <td>8222.126<\/td>\n",
       "      <td>38<\/td>\n",
       "      <td>312440.788<\/td>\n",
       "    <\/tr>\n",
       "    <tr>\n",
       "      <th>970<\/th>\n",
       "      <td>Logitech P710e Mobile Speakerphone<\/td>\n",
       "      <td>8806.158<\/td>\n",
       "      <td>35<\/td>\n",
       "      <td>308215.530<\/td>\n",
       "    <\/tr>\n",
       "    <tr>\n",
       "      <th>649<\/th>\n",
       "      <td>GBC DocuBind TL300 Electric Binding System<\/td>\n",
       "      <td>12737.258<\/td>\n",
       "      <td>21<\/td>\n",
       "      <td>267482.418<\/td>\n",
       "    <\/tr>\n",
       "    <tr>\n",
       "      <th>729<\/th>\n",
       "      <td>Global Troy Executive Leather Low-Back Tilter<\/td>\n",
       "      <td>10169.894<\/td>\n",
       "      <td>25<\/td>\n",
       "      <td>254247.350<\/td>\n",
       "    <\/tr>\n",
       "    <tr>\n",
       "      <th>746<\/th>\n",
       "      <td>HON 5400 Series Task Chairs for Big and Tall<\/td>\n",
       "      <td>11846.562<\/td>\n",
       "      <td>21<\/td>\n",
       "      <td>248777.802<\/td>\n",
       "    <\/tr>\n",
       "  <\/tbody>\n",
       "<\/table>\n",
       "<\/div>"
      ]
     },
     "metadata":{
      
     },
     "output_type":"display_data"
    }
   ],
   "metadata":{
    "datalore":{
     "node_id":"2wsJLntR9PR1T94NK4116j",
     "type":"CODE",
     "hide_input_from_viewers":false,
     "hide_output_from_viewers":false,
     "report_properties":{
      "rowId":"o1k1y3JaWnPXplQAvRJCjO"
     }
    }
   }
  },
  {
   "cell_type":"code",
   "source":[
    "# TODO 10 - plot at least 2 plots, any plot you think interesting :)\n",
    "new_df['Total Sales'] = new_df['Sales'] * new_df['Quantity']\n",
    "df_region = new_df[['Region','Profit', 'Total Sales']]\n",
    "df_region.groupby('Region').sum().reset_index().plot(kind = 'bar', x = 'Region', y = 'Total Sales', color = 'Salmon');"
   ],
   "execution_count":23,
   "outputs":[
    {
     "data":{
      "image\/png":"[encoded data removed]"
     },
     "metadata":{
      "image\/png":{
       
      }
     },
     "output_type":"display_data"
    }
   ],
   "metadata":{
    "datalore":{
     "node_id":"E5u88vo7BmOwxVlxplrzaq",
     "type":"CODE",
     "hide_input_from_viewers":false,
     "hide_output_from_viewers":false,
     "report_properties":{
      "rowId":"YLqyvpc8WtWgrUM5pw2DRk"
     }
    }
   }
  },
  {
   "cell_type":"code",
   "source":[
    "df_region.groupby('Region').sum().reset_index().plot(kind = 'bar', x = 'Region', y = 'Profit', color = 'gold');"
   ],
   "execution_count":24,
   "outputs":[
    {
     "data":{
      "image\/png":"[encoded data removed]"
     },
     "metadata":{
      "image\/png":{
       
      }
     },
     "output_type":"display_data"
    }
   ],
   "metadata":{
    "datalore":{
     "node_id":"skUiAN5o1hax3whQvghVCq",
     "type":"CODE",
     "hide_input_from_viewers":true,
     "hide_output_from_viewers":true
    }
   }
  },
  {
   "cell_type":"code",
   "source":[
    "df_cat = new_df[['Category','Profit']]\n",
    "df_cat.groupby('Category').sum().plot(kind='pie', y='Profit', legend=False, autopct='%.f%%' \\\n",
    "                                      ,title = 'Profit in each Category', colors=['pink', 'silver', 'steelblue']);\n"
   ],
   "execution_count":32,
   "outputs":[
    {
     "data":{
      "image\/png":"[encoded data removed]"
     },
     "metadata":{
      "image\/png":{
       
      }
     },
     "output_type":"display_data"
    }
   ],
   "metadata":{
    "datalore":{
     "node_id":"DtEQcYrncXi6G4lGeneqaZ",
     "type":"CODE",
     "hide_input_from_viewers":true,
     "hide_output_from_viewers":true
    }
   }
  },
  {
   "cell_type":"code",
   "source":[
    "# TODO Bonus - use np.where() to create new column in dataframe to help you answer your own questions\n",
    "new_df[new_df['Postal Code'].isna()]"
   ],
   "execution_count":26,
   "outputs":[
    {
     "data":{
      "text\/html":[
       "<div>\n",
       "<style scoped>\n",
       "    .dataframe tbody tr th:only-of-type {\n",
       "        vertical-align: middle;\n",
       "    }\n",
       "\n",
       "    .dataframe tbody tr th {\n",
       "        vertical-align: top;\n",
       "    }\n",
       "\n",
       "    .dataframe thead th {\n",
       "        text-align: right;\n",
       "    }\n",
       "<\/style>\n",
       "<table border=\"1\" class=\"dataframe\">\n",
       "  <thead>\n",
       "    <tr style=\"text-align: right;\">\n",
       "      <th><\/th>\n",
       "      <th>Row ID<\/th>\n",
       "      <th>Order ID<\/th>\n",
       "      <th>Order Date<\/th>\n",
       "      <th>Ship Date<\/th>\n",
       "      <th>Ship Mode<\/th>\n",
       "      <th>Customer ID<\/th>\n",
       "      <th>Customer Name<\/th>\n",
       "      <th>Segment<\/th>\n",
       "      <th>Country\/Region<\/th>\n",
       "      <th>City<\/th>\n",
       "      <th>...<\/th>\n",
       "      <th>Region<\/th>\n",
       "      <th>Product ID<\/th>\n",
       "      <th>Category<\/th>\n",
       "      <th>Sub-Category<\/th>\n",
       "      <th>Product Name<\/th>\n",
       "      <th>Sales<\/th>\n",
       "      <th>Quantity<\/th>\n",
       "      <th>Discount<\/th>\n",
       "      <th>Profit<\/th>\n",
       "      <th>Total Sales<\/th>\n",
       "    <\/tr>\n",
       "  <\/thead>\n",
       "  <tbody>\n",
       "    <tr>\n",
       "      <th>2234<\/th>\n",
       "      <td>2235<\/td>\n",
       "      <td>CA-2020-104066<\/td>\n",
       "      <td>2020-12-05<\/td>\n",
       "      <td>2020-12-10<\/td>\n",
       "      <td>Standard Class<\/td>\n",
       "      <td>QJ-19255<\/td>\n",
       "      <td>Quincy Jones<\/td>\n",
       "      <td>Corporate<\/td>\n",
       "      <td>United States<\/td>\n",
       "      <td>Burlington<\/td>\n",
       "      <td>...<\/td>\n",
       "      <td>East<\/td>\n",
       "      <td>TEC-AC-10001013<\/td>\n",
       "      <td>Technology<\/td>\n",
       "      <td>Accessories<\/td>\n",
       "      <td>Logitech ClearChat Comfort\/USB Headset H390<\/td>\n",
       "      <td>205.03<\/td>\n",
       "      <td>7<\/td>\n",
       "      <td>0.0<\/td>\n",
       "      <td>67.6599<\/td>\n",
       "      <td>1435.21<\/td>\n",
       "    <\/tr>\n",
       "    <tr>\n",
       "      <th>5274<\/th>\n",
       "      <td>5275<\/td>\n",
       "      <td>CA-2018-162887<\/td>\n",
       "      <td>2018-11-07<\/td>\n",
       "      <td>2018-11-09<\/td>\n",
       "      <td>Second Class<\/td>\n",
       "      <td>SV-20785<\/td>\n",
       "      <td>Stewart Visinsky<\/td>\n",
       "      <td>Consumer<\/td>\n",
       "      <td>United States<\/td>\n",
       "      <td>Burlington<\/td>\n",
       "      <td>...<\/td>\n",
       "      <td>East<\/td>\n",
       "      <td>FUR-CH-10000595<\/td>\n",
       "      <td>Furniture<\/td>\n",
       "      <td>Chairs<\/td>\n",
       "      <td>Safco Contoured Stacking Chairs<\/td>\n",
       "      <td>715.20<\/td>\n",
       "      <td>3<\/td>\n",
       "      <td>0.0<\/td>\n",
       "      <td>178.8000<\/td>\n",
       "      <td>2145.60<\/td>\n",
       "    <\/tr>\n",
       "    <tr>\n",
       "      <th>8798<\/th>\n",
       "      <td>8799<\/td>\n",
       "      <td>US-2019-150140<\/td>\n",
       "      <td>2019-04-06<\/td>\n",
       "      <td>2019-04-10<\/td>\n",
       "      <td>Standard Class<\/td>\n",
       "      <td>VM-21685<\/td>\n",
       "      <td>Valerie Mitchum<\/td>\n",
       "      <td>Home Office<\/td>\n",
       "      <td>United States<\/td>\n",
       "      <td>Burlington<\/td>\n",
       "      <td>...<\/td>\n",
       "      <td>East<\/td>\n",
       "      <td>TEC-PH-10002555<\/td>\n",
       "      <td>Technology<\/td>\n",
       "      <td>Phones<\/td>\n",
       "      <td>Nortel Meridian M5316 Digital phone<\/td>\n",
       "      <td>1294.75<\/td>\n",
       "      <td>5<\/td>\n",
       "      <td>0.0<\/td>\n",
       "      <td>336.6350<\/td>\n",
       "      <td>6473.75<\/td>\n",
       "    <\/tr>\n",
       "    <tr>\n",
       "      <th>9146<\/th>\n",
       "      <td>9147<\/td>\n",
       "      <td>US-2019-165505<\/td>\n",
       "      <td>2019-01-23<\/td>\n",
       "      <td>2019-01-27<\/td>\n",
       "      <td>Standard Class<\/td>\n",
       "      <td>CB-12535<\/td>\n",
       "      <td>Claudia Bergmann<\/td>\n",
       "      <td>Corporate<\/td>\n",
       "      <td>United States<\/td>\n",
       "      <td>Burlington<\/td>\n",
       "      <td>...<\/td>\n",
       "      <td>East<\/td>\n",
       "      <td>TEC-AC-10002926<\/td>\n",
       "      <td>Technology<\/td>\n",
       "      <td>Accessories<\/td>\n",
       "      <td>Logitech Wireless Marathon Mouse M705<\/td>\n",
       "      <td>99.98<\/td>\n",
       "      <td>2<\/td>\n",
       "      <td>0.0<\/td>\n",
       "      <td>42.9914<\/td>\n",
       "      <td>199.96<\/td>\n",
       "    <\/tr>\n",
       "    <tr>\n",
       "      <th>9147<\/th>\n",
       "      <td>9148<\/td>\n",
       "      <td>US-2019-165505<\/td>\n",
       "      <td>2019-01-23<\/td>\n",
       "      <td>2019-01-27<\/td>\n",
       "      <td>Standard Class<\/td>\n",
       "      <td>CB-12535<\/td>\n",
       "      <td>Claudia Bergmann<\/td>\n",
       "      <td>Corporate<\/td>\n",
       "      <td>United States<\/td>\n",
       "      <td>Burlington<\/td>\n",
       "      <td>...<\/td>\n",
       "      <td>East<\/td>\n",
       "      <td>OFF-AR-10003477<\/td>\n",
       "      <td>Office Supplies<\/td>\n",
       "      <td>Art<\/td>\n",
       "      <td>4009 Highlighters<\/td>\n",
       "      <td>8.04<\/td>\n",
       "      <td>6<\/td>\n",
       "      <td>0.0<\/td>\n",
       "      <td>2.7336<\/td>\n",
       "      <td>48.24<\/td>\n",
       "    <\/tr>\n",
       "    <tr>\n",
       "      <th>9148<\/th>\n",
       "      <td>9149<\/td>\n",
       "      <td>US-2019-165505<\/td>\n",
       "      <td>2019-01-23<\/td>\n",
       "      <td>2019-01-27<\/td>\n",
       "      <td>Standard Class<\/td>\n",
       "      <td>CB-12535<\/td>\n",
       "      <td>Claudia Bergmann<\/td>\n",
       "      <td>Corporate<\/td>\n",
       "      <td>United States<\/td>\n",
       "      <td>Burlington<\/td>\n",
       "      <td>...<\/td>\n",
       "      <td>East<\/td>\n",
       "      <td>OFF-ST-10001526<\/td>\n",
       "      <td>Office Supplies<\/td>\n",
       "      <td>Storage<\/td>\n",
       "      <td>Iceberg Mobile Mega Data\/Printer Cart<\/td>\n",
       "      <td>1564.29<\/td>\n",
       "      <td>13<\/td>\n",
       "      <td>0.0<\/td>\n",
       "      <td>406.7154<\/td>\n",
       "      <td>20335.77<\/td>\n",
       "    <\/tr>\n",
       "    <tr>\n",
       "      <th>9386<\/th>\n",
       "      <td>9387<\/td>\n",
       "      <td>US-2020-127292<\/td>\n",
       "      <td>2020-01-19<\/td>\n",
       "      <td>2020-01-23<\/td>\n",
       "      <td>Standard Class<\/td>\n",
       "      <td>RM-19375<\/td>\n",
       "      <td>Raymond Messe<\/td>\n",
       "      <td>Consumer<\/td>\n",
       "      <td>United States<\/td>\n",
       "      <td>Burlington<\/td>\n",
       "      <td>...<\/td>\n",
       "      <td>East<\/td>\n",
       "      <td>OFF-PA-10000157<\/td>\n",
       "      <td>Office Supplies<\/td>\n",
       "      <td>Paper<\/td>\n",
       "      <td>Xerox 191<\/td>\n",
       "      <td>79.92<\/td>\n",
       "      <td>4<\/td>\n",
       "      <td>0.0<\/td>\n",
       "      <td>37.5624<\/td>\n",
       "      <td>319.68<\/td>\n",
       "    <\/tr>\n",
       "    <tr>\n",
       "      <th>9387<\/th>\n",
       "      <td>9388<\/td>\n",
       "      <td>US-2020-127292<\/td>\n",
       "      <td>2020-01-19<\/td>\n",
       "      <td>2020-01-23<\/td>\n",
       "      <td>Standard Class<\/td>\n",
       "      <td>RM-19375<\/td>\n",
       "      <td>Raymond Messe<\/td>\n",
       "      <td>Consumer<\/td>\n",
       "      <td>United States<\/td>\n",
       "      <td>Burlington<\/td>\n",
       "      <td>...<\/td>\n",
       "      <td>East<\/td>\n",
       "      <td>OFF-PA-10001970<\/td>\n",
       "      <td>Office Supplies<\/td>\n",
       "      <td>Paper<\/td>\n",
       "      <td>Xerox 1881<\/td>\n",
       "      <td>12.28<\/td>\n",
       "      <td>1<\/td>\n",
       "      <td>0.0<\/td>\n",
       "      <td>5.7716<\/td>\n",
       "      <td>12.28<\/td>\n",
       "    <\/tr>\n",
       "    <tr>\n",
       "      <th>9388<\/th>\n",
       "      <td>9389<\/td>\n",
       "      <td>US-2020-127292<\/td>\n",
       "      <td>2020-01-19<\/td>\n",
       "      <td>2020-01-23<\/td>\n",
       "      <td>Standard Class<\/td>\n",
       "      <td>RM-19375<\/td>\n",
       "      <td>Raymond Messe<\/td>\n",
       "      <td>Consumer<\/td>\n",
       "      <td>United States<\/td>\n",
       "      <td>Burlington<\/td>\n",
       "      <td>...<\/td>\n",
       "      <td>East<\/td>\n",
       "      <td>OFF-AP-10000828<\/td>\n",
       "      <td>Office Supplies<\/td>\n",
       "      <td>Appliances<\/td>\n",
       "      <td>Avanti 4.4 Cu. Ft. Refrigerator<\/td>\n",
       "      <td>542.94<\/td>\n",
       "      <td>3<\/td>\n",
       "      <td>0.0<\/td>\n",
       "      <td>152.0232<\/td>\n",
       "      <td>1628.82<\/td>\n",
       "    <\/tr>\n",
       "    <tr>\n",
       "      <th>9389<\/th>\n",
       "      <td>9390<\/td>\n",
       "      <td>US-2020-127292<\/td>\n",
       "      <td>2020-01-19<\/td>\n",
       "      <td>2020-01-23<\/td>\n",
       "      <td>Standard Class<\/td>\n",
       "      <td>RM-19375<\/td>\n",
       "      <td>Raymond Messe<\/td>\n",
       "      <td>Consumer<\/td>\n",
       "      <td>United States<\/td>\n",
       "      <td>Burlington<\/td>\n",
       "      <td>...<\/td>\n",
       "      <td>East<\/td>\n",
       "      <td>OFF-EN-10001509<\/td>\n",
       "      <td>Office Supplies<\/td>\n",
       "      <td>Envelopes<\/td>\n",
       "      <td>Poly String Tie Envelopes<\/td>\n",
       "      <td>2.04<\/td>\n",
       "      <td>1<\/td>\n",
       "      <td>0.0<\/td>\n",
       "      <td>0.9588<\/td>\n",
       "      <td>2.04<\/td>\n",
       "    <\/tr>\n",
       "    <tr>\n",
       "      <th>9741<\/th>\n",
       "      <td>9742<\/td>\n",
       "      <td>CA-2018-117086<\/td>\n",
       "      <td>2018-11-08<\/td>\n",
       "      <td>2018-11-12<\/td>\n",
       "      <td>Standard Class<\/td>\n",
       "      <td>QJ-19255<\/td>\n",
       "      <td>Quincy Jones<\/td>\n",
       "      <td>Corporate<\/td>\n",
       "      <td>United States<\/td>\n",
       "      <td>Burlington<\/td>\n",
       "      <td>...<\/td>\n",
       "      <td>East<\/td>\n",
       "      <td>FUR-BO-10004834<\/td>\n",
       "      <td>Furniture<\/td>\n",
       "      <td>Bookcases<\/td>\n",
       "      <td>Riverside Palais Royal Lawyers Bookcase, Royal...<\/td>\n",
       "      <td>4404.90<\/td>\n",
       "      <td>5<\/td>\n",
       "      <td>0.0<\/td>\n",
       "      <td>1013.1270<\/td>\n",
       "      <td>22024.50<\/td>\n",
       "    <\/tr>\n",
       "  <\/tbody>\n",
       "<\/table>\n",
       "<p>11 rows × 22 columns<\/p>\n",
       "<\/div>"
      ]
     },
     "metadata":{
      
     },
     "output_type":"display_data"
    }
   ],
   "metadata":{
    "datalore":{
     "node_id":"yiklucMr90poNEBgUoD8QM",
     "type":"CODE",
     "hide_input_from_viewers":false,
     "hide_output_from_viewers":false,
     "report_properties":{
      "rowId":"qPoCvPUaBWdBj23ZN8DzK2"
     }
    }
   }
  },
  {
   "cell_type":"code",
   "source":[
    "new_df['Net Profit'] = np.where(new_df['Profit']>0,\"Profit\",\"Loss\")\n",
    "new_df['Net Profit'].value_counts().plot(kind = 'pie', legend=False, autopct='%.f%%', title = 'Overall Net Profit of Store');"
   ],
   "execution_count":27,
   "outputs":[
    {
     "data":{
      "image\/png":"[encoded data removed]"
     },
     "metadata":{
      "image\/png":{
       
      }
     },
     "output_type":"display_data"
    }
   ],
   "metadata":{
    "datalore":{
     "node_id":"82NnvoekLYM5NdkPtxEXaa",
     "type":"CODE",
     "hide_input_from_viewers":true,
     "hide_output_from_viewers":true
    }
   }
  }
 ],
 "metadata":{
  "kernelspec":{
   "display_name":"Python",
   "language":"python",
   "name":"python"
  },
  "datalore":{
   "computation_mode":"JUPYTER",
   "package_manager":"pip",
   "base_environment":"default",
   "packages":[
    
   ],
   "report_row_ids":[
    "PsZ3GsOuAh5oL3t5b1nG5C",
    "QSj7SIuNFBSMVeTB58LLUZ",
    "OUU96SToWwrj1B1ArB4O1w",
    "7mU2MKYJCZklKsnCPvnmBr",
    "JbsMlJLoQgvdJjOoD84uIu",
    "p1384kLQcEKra5tI5fvzXE",
    "PtpEhsctFjNWpgwjN7Oibt",
    "jkjy4bFxcfQqH2KnF2UnmL",
    "dpjTLiB9p3C5ogGw7uxtlb",
    "NyHnb7O9xdyS0NL4h23zn6",
    "9UVk2YPkwP8FDHRT8GAAnc",
    "Jcxc2CThCoOPtWyME99YiG",
    "x3i9Jtl5ddNUAKbUkSjy8v",
    "3pbdybsFDzdekCseDx4C1A",
    "nmQ9VpMz4r4T9k1vzQAelP",
    "H3pSTzCXejArj1xQkBvVIk",
    "OaN4wBsioDqyhYSPbObr6M",
    "NolkR1Zkln4GjZcDWqSUBB",
    "0VemA0hFTGXBSIGL4xs9xs",
    "39AZ8mPOfbKPm6ITqBarGZ",
    "o1k1y3JaWnPXplQAvRJCjO",
    "YLqyvpc8WtWgrUM5pw2DRk",
    "qPoCvPUaBWdBj23ZN8DzK2"
   ],
   "version":3
  }
 },
 "nbformat":4,
 "nbformat_minor":4
}