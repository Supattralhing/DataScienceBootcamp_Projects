{
 "cells":[
  {
   "cell_type":"markdown",
   "source":[
    "## No.1 ChatBot Pizza Restaurant"
   ],
   "attachments":{
    
   },
   "metadata":{
    "datalore":{
     "node_id":"p5kduNTJxgl21X4zfL2B37",
     "type":"MD",
     "hide_input_from_viewers":true,
     "hide_output_from_viewers":true
    }
   }
  },
  {
   "cell_type":"code",
   "source":[
    "def Chatbot():\n",
    "    print(\"---Welcome to Pizza Restaurant---\")\n",
    "    print(\"\"\"------------Menus---------------\n",
    "    [1]: Hawaiian           300Bath\n",
    "    [2]: HamTuna            250Bath\n",
    "    [3]: Smoked Salmon      500Bath\n",
    "    [4]: Salad              150Bath\n",
    "    If order finish, please press [5]:Exit\"\"\")\n",
    "    print(\"\")\n",
    "\n",
    "    menu_list = {\n",
    "        \"1\": 300,\n",
    "        \"2\": 250,\n",
    "        \"3\": 500,\n",
    "        \"4\": 150,\n",
    "        \"5\": \"Exit\"\n",
    "    }\n",
    "    price = 0\n",
    "    while True:\n",
    "        order = str(input(\"What menu do you want to order? \"))\n",
    "        if order == \"1\":\n",
    "            print(\"You order Hawaiian\")\n",
    "            price = menu_list[\"1\"] + price\n",
    "        elif order == \"2\":\n",
    "            print(\"You order HamTuna\")\n",
    "            price = menu_list[\"2\"] + price\n",
    "        elif order == \"3\":\n",
    "            print(\"You order Smoked Salmon\")\n",
    "            price = menu_list[\"3\"] + price\n",
    "        elif order == \"4\":\n",
    "            print(\"You order Salad\")\n",
    "            price = menu_list[\"4\"] + price\n",
    "        else:\n",
    "            print(\"----------------------\")\n",
    "            print(\"Thank you for ordering\")\n",
    "            print(f\"Total price: {price} Bath\")\n",
    "            break"
   ],
   "execution_count":12,
   "outputs":[
    
   ],
   "metadata":{
    "datalore":{
     "node_id":"M8V52OuDa68pn8QZpDFTXW",
     "type":"CODE",
     "hide_input_from_viewers":true,
     "hide_output_from_viewers":true
    }
   }
  },
  {
   "cell_type":"code",
   "source":[
    "Chatbot()"
   ],
   "execution_count":13,
   "outputs":[
    {
     "name":"stdout",
     "text":[
      "---Welcome to Pizza Restaurant---\n",
      "------------Menus---------------\n",
      "    [1]: Hawaiian           300Bath\n",
      "    [2]: HamTuna            250Bath\n",
      "    [3]: Smoked Salmon      500Bath\n",
      "    [4]: Salad              150Bath\n",
      "    If order finish, please press [5]:Exit\n",
      "\n",
      "What menu do you want to order?  1\n",
      "You order Hawaiian\n",
      "What menu do you want to order?  2\n",
      "You order HamTuna\n",
      "What menu do you want to order?  3\n",
      "You order Smoked Salmon\n",
      "What menu do you want to order?  4\n",
      "You order Salad\n",
      "What menu do you want to order?  5\n",
      "----------------------\n",
      "Thank you for ordering\n",
      "Total price: 1200 Bath\n"
     ],
     "output_type":"stream"
    }
   ],
   "metadata":{
    "datalore":{
     "node_id":"0d7rAPRnZIfghRfj2ZEG15",
     "type":"CODE",
     "hide_input_from_viewers":true,
     "hide_output_from_viewers":true
    }
   }
  },
  {
   "cell_type":"markdown",
   "source":[
    "## No.2 Pao Ying Chub Game"
   ],
   "attachments":{
    
   },
   "metadata":{
    "datalore":{
     "node_id":"QV0R8ubxVrhoivVSCW5FYT",
     "type":"MD",
     "hide_input_from_viewers":true,
     "hide_output_from_viewers":true
    }
   }
  },
  {
   "cell_type":"code",
   "source":[
    "# pao ying chub game\n",
    "import random\n",
    "\n",
    "def play_game():\n",
    "    print(\"Instruction: you choose hummer, scissor, paper\")\n",
    "    start = int(input(\"Do you want start to play game? (1:start, 0:exit) \"))\n",
    "    #time for play\n",
    "    time = 0\n",
    "    tie_time = 0\n",
    "    ##score\n",
    "    user_score = 0\n",
    "    com_score = 0\n",
    "    if start == 1:\n",
    "        while True:\n",
    "             #count time when start to play game\n",
    "            time = time + 1\n",
    "            options = [\"hummer\", \"scissor\", \"paper\"]\n",
    "            user = str(input(\"user choose one: \"))\n",
    "            com = random.choice(options)\n",
    "            print(\"com choose one: \", com)\n",
    "            if user == com:\n",
    "                tie_time = tie_time + 1\n",
    "                print(\"Tie!\")\n",
    "            elif (user == \"hummer\" and com == \"scissor\"):\n",
    "                user_score = user_score + 1\n",
    "                print(\"You Win!\")\n",
    "            elif (user == \"hummer\" and com == \"paper\"):\n",
    "                com_score = com_score + 1\n",
    "                print(\"You Lose!\")\n",
    "            elif (user == \"scissor\" and com == \"paper\"):\n",
    "                user_score = user_score + 1\n",
    "                print(\"You Win!\")\n",
    "            elif (user == \"scissor\" and com == \"hummer\"):\n",
    "                com_score = com_score + 1\n",
    "                print(\"You Lose!\")\n",
    "            elif (user == \"paper\" and com == \"hummer\"):\n",
    "                user_score = user_score + 1\n",
    "                print(\"You Win!\")\n",
    "            elif (user == \"paper\" and com == \"scissor\"):\n",
    "                com_score = com_score + 1\n",
    "                print(\"You Lose!\")\n",
    "            #Ask to exit or play again\n",
    "            exit = int(input(\"Do you want to exit? (1:exit, 0:play again) \"))\n",
    "            if exit == 1:\n",
    "                print(\"\")\n",
    "                print(\"--End game and summary score--\")\n",
    "                print(\"time to play: \", time)\n",
    "                print(\"tie time: \", tie_time)\n",
    "                print(\"user score: \", user_score)\n",
    "                print(\"computer score: \", com_score)\n",
    "                if (user_score > com_score):\n",
    "                    print(\"You Win\")\n",
    "                elif (user_score == com_score):\n",
    "                    print(\"You tie with computer\")\n",
    "                else:\n",
    "                    print(\"You Lose\")\n",
    "                break\n",
    "    else:\n",
    "        print(\"Exit play game and summary below\")\n",
    "        print(\"time to play: \", time)\n",
    "        print(\"user score: \", user_score)\n",
    "        print(\"computer score: \", com_score)"
   ],
   "execution_count":1,
   "outputs":[
    
   ],
   "metadata":{
    "datalore":{
     "node_id":"2xDG6iwhSV5c7zRDj87guE",
     "type":"CODE",
     "hide_input_from_viewers":true,
     "hide_output_from_viewers":true
    }
   }
  },
  {
   "cell_type":"code",
   "source":[
    "play_game()"
   ],
   "execution_count":2,
   "outputs":[
    {
     "name":"stdout",
     "text":[
      "Instruction: you choose hummer, scissor, paper\n",
      "Do you want start to play game? (1:start, 0:exit)  1\n",
      "user choose one:  scissor\n",
      "com choose one:  paper\n",
      "You Win!\n",
      "Do you want to exit? (1:exit, 0:play again)  0\n",
      "user choose one:  paper\n",
      "com choose one:  paper\n",
      "Tie!\n",
      "Do you want to exit? (1:exit, 0:play again)  0\n",
      "user choose one:  hummer\n",
      "com choose one:  scissor\n",
      "You Win!\n",
      "Do you want to exit? (1:exit, 0:play again)  1\n",
      "\n",
      "--End game and summary score--\n",
      "time to play:  3\n",
      "tie time:  1\n",
      "user score:  2\n",
      "computer score:  0\n",
      "You Win\n"
     ],
     "output_type":"stream"
    }
   ],
   "metadata":{
    "datalore":{
     "node_id":"jWS27EAcUpKl4BF35ohlfh",
     "type":"CODE",
     "hide_input_from_viewers":true,
     "hide_output_from_viewers":true
    }
   }
  },
  {
   "cell_type":"markdown",
   "source":[
    "## No.3 ATM 5 Classes"
   ],
   "attachments":{
    
   },
   "metadata":{
    "datalore":{
     "node_id":"2d4kh5z7itau469pBZrVyW",
     "type":"MD",
     "hide_input_from_viewers":true,
     "hide_output_from_viewers":true
    }
   }
  },
  {
   "cell_type":"code",
   "source":[
    "class ATM:\n",
    "    def __init__(self, name, bank_acc, bank, balance, pin_id):\n",
    "        self.name = name\n",
    "        self.bank_acc= bank_acc\n",
    "        self.bank = bank\n",
    "        self.balance = balance\n",
    "        self.pin_id = pin_id\n",
    "\n",
    "    def login(self):\n",
    "        n_try = 1\n",
    "        while True:\n",
    "            password = int(input(\"Enter your password: \"))\n",
    "            if self.pin_id == password:\n",
    "                print(\"Log in successful\")\n",
    "                break\n",
    "            else:\n",
    "                if n_try < 3:\n",
    "                    print(f\"Try again! ({n_try}\/3)\")\n",
    "                    n_try += 1\n",
    "                    continue\n",
    "                else:\n",
    "                    print(f\"Account Lock! Please contact Bank ({n_try}\/3)\")\n",
    "                    break\n",
    "    \n",
    "    def deposit(self, deposit):\n",
    "        self.balance = self.balance + deposit\n",
    "        print(f\"Your balance is {self.balance} Bath\")\n",
    "\n",
    "    def withdraw(self, withdraw):\n",
    "        if self.balance >= withdraw and self.balance > 0:\n",
    "            self.balance = self.balance - withdraw\n",
    "            print(f\"Withdraw: {withdraw} Bath\")\n",
    "            print(f\"Your balance is {self.balance} Bath\")\n",
    "        else:\n",
    "            print(\"Balance is not enough!\")\n",
    "\n",
    "    def tranfer(self, tranfer, tfbank):\n",
    "        if self.balance >= tranfer and self.balance > 0:\n",
    "            print(f\"{self.bank} transfer to {tfbank} {tranfer} Bath\")\n",
    "        else:\n",
    "            print(\"Balance is not enough!\")\n",
    "\n",
    "    def paybill(self, paybill, service_name):\n",
    "        self.balance = self.balance - paybill\n",
    "        if self.balance >= paybill:\n",
    "            print(f\"Pay for {service_name} {paybill} Bath\")\n",
    "            print(f\"Your balance is {self.balance} Bath\")\n",
    "        else:\n",
    "            print(\"Balance is not enough!\")"
   ],
   "execution_count":15,
   "outputs":[
    
   ],
   "metadata":{
    "datalore":{
     "node_id":"M6mygEFfAk6yYfqGZ5qLjy",
     "type":"CODE",
     "hide_input_from_viewers":true,
     "hide_output_from_viewers":true
    }
   }
  },
  {
   "cell_type":"code",
   "source":[
    "my_ATM = ATM(\"Lhing\",12345,\"KBank\", 1000, 5555)\n",
    "my_ATM.deposit(1000)\n",
    "my_ATM.withdraw(500)"
   ],
   "execution_count":17,
   "outputs":[
    {
     "name":"stdout",
     "text":[
      "Your balance is 2000 Bath\n",
      "Withdraw: 500 Bath\n",
      "Your balance is 1500 Bath\n"
     ],
     "output_type":"stream"
    }
   ],
   "metadata":{
    "datalore":{
     "node_id":"81Ze7SkqWAma7C3LHQZZOh",
     "type":"CODE",
     "hide_input_from_viewers":true,
     "hide_output_from_viewers":true
    }
   }
  },
  {
   "cell_type":"code",
   "source":[
    "my_ATM = ATM(\"Lhing\",12345,\"KBank\", 0, 5555)\n",
    "my_ATM.tranfer(500, \"SCB\")"
   ],
   "execution_count":14,
   "outputs":[
    {
     "name":"stdout",
     "text":[
      "Balance is not enough!\n"
     ],
     "output_type":"stream"
    }
   ],
   "metadata":{
    "datalore":{
     "node_id":"hHWUVtJGQ0ef8auXJCGw2E",
     "type":"CODE",
     "hide_input_from_viewers":true,
     "hide_output_from_viewers":true
    }
   }
  },
  {
   "cell_type":"code",
   "source":[
    "my_ATM = ATM(\"Lhing\",12345,\"KBank\", 1000, 5555)\n",
    "my_ATM.deposit(1000)\n",
    "my_ATM.tranfer(500, \"SCB\")\n",
    "my_ATM.paybill(200,\"Mobile Phone\")"
   ],
   "execution_count":8,
   "outputs":[
    {
     "name":"stdout",
     "text":[
      "Your balance is 2000 Bath\n",
      "KBank transfer to SCB 500 Bath\n",
      "Pay for Mobile Phone 200 Bath\n",
      "Your balance is 1800 Bath\n"
     ],
     "output_type":"stream"
    }
   ],
   "metadata":{
    "datalore":{
     "node_id":"jpSz4S2W2IIYGsZKrSeQkp",
     "type":"CODE",
     "hide_input_from_viewers":true,
     "hide_output_from_viewers":true
    }
   }
  },
  {
   "cell_type":"code",
   "source":[
    "my_ATM = ATM(\"Lhing\",12345,\"KBank\", 1000, 5555)\n",
    "my_ATM.login()"
   ],
   "execution_count":12,
   "outputs":[
    {
     "name":"stdout",
     "text":[
      "Enter your password:  1234\n",
      "Try again! (1\/3)\n",
      "Enter your password:  1235\n",
      "Try again! (2\/3)\n",
      "Enter your password:  5555\n",
      "Log in successful\n"
     ],
     "output_type":"stream"
    }
   ],
   "metadata":{
    "datalore":{
     "node_id":"bpgP2pZKCn3oWjl3AsEJ5k",
     "type":"CODE",
     "hide_input_from_viewers":true,
     "hide_output_from_viewers":true
    }
   }
  }
 ],
 "metadata":{
  "kernelspec":{
   "display_name":"Python",
   "language":"python",
   "name":"python"
  },
  "datalore":{
   "computation_mode":"JUPYTER",
   "package_manager":"pip",
   "base_environment":"default",
   "packages":[
    
   ],
   "report_row_ids":[
    
   ],
   "version":3
  }
 },
 "nbformat":4,
 "nbformat_minor":4
}
