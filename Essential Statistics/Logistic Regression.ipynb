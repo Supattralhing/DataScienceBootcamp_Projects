{
 "cells":[
  {
   "cell_type":"markdown",
   "source":[
    "# Predict survived Titanic dataset by using Logistic Regression\n",
    "### We use logistic regression to predict binary outcome (0\/1).\n",
    "### In this case we use logistic regression to predict survived of Titanic dataset. Titanic dataset is dataset in library of R. "
   ],
   "attachments":{
    
   },
   "metadata":{
    "datalore":{
     "node_id":"LvDge2AlyW2C5IanjhT3jR",
     "type":"MD",
     "hide_input_from_viewers":true,
     "hide_output_from_viewers":true
    }
   }
  },
  {
   "cell_type":"code",
   "source":[
    "install.packages(\"titanic\")"
   ],
   "execution_count":1,
   "outputs":[
    {
     "name":"stderr",
     "text":[
      "Updating HTML index of packages in '.Library'\n",
      "\n",
      "Making 'packages.html' ...\n",
      " done\n",
      "\n"
     ],
     "output_type":"stream"
    }
   ],
   "metadata":{
    "datalore":{
     "node_id":"Om9rqcJAydYyKSDbMsGsIX",
     "type":"CODE",
     "hide_input_from_viewers":true,
     "hide_output_from_viewers":true
    }
   }
  },
  {
   "cell_type":"markdown",
   "source":[
    "## Load Titanic Library"
   ],
   "attachments":{
    
   },
   "metadata":{
    "datalore":{
     "node_id":"3IXRZQiGUbaw5KP4HNHpSs",
     "type":"MD",
     "hide_input_from_viewers":true,
     "hide_output_from_viewers":true
    }
   }
  },
  {
   "cell_type":"code",
   "source":[
    "library(titanic)"
   ],
   "execution_count":2,
   "outputs":[
    
   ],
   "metadata":{
    "datalore":{
     "node_id":"ZJtaX6HBnTLp2XXYuAPiYO",
     "type":"CODE",
     "hide_input_from_viewers":true,
     "hide_output_from_viewers":true
    }
   }
  },
  {
   "cell_type":"markdown",
   "source":[
    "## Preview dataset\n",
    "### When we preview dataset, we found that dataset have missing value in some column such as \"Age\" column."
   ],
   "attachments":{
    
   },
   "metadata":{
    "datalore":{
     "node_id":"CARWavUdQBAstKZoKEOkAN",
     "type":"MD",
     "hide_input_from_viewers":true,
     "hide_output_from_viewers":true
    }
   }
  },
  {
   "cell_type":"code",
   "source":[
    "View(titanic_train)"
   ],
   "execution_count":3,
   "outputs":[
    {
     "data":{
      "text\/html":[
       "<table class=\"dataframe\">\n",
       "<caption>A data.frame: 891 × 12<\/caption>\n",
       "<thead>\n",
       "\t<tr><th scope=col>PassengerId<\/th><th scope=col>Survived<\/th><th scope=col>Pclass<\/th><th scope=col>Name<\/th><th scope=col>Sex<\/th><th scope=col>Age<\/th><th scope=col>SibSp<\/th><th scope=col>Parch<\/th><th scope=col>Ticket<\/th><th scope=col>Fare<\/th><th scope=col>Cabin<\/th><th scope=col>Embarked<\/th><\/tr>\n",
       "\t<tr><th scope=col>&lt;int&gt;<\/th><th scope=col>&lt;int&gt;<\/th><th scope=col>&lt;int&gt;<\/th><th scope=col>&lt;chr&gt;<\/th><th scope=col>&lt;chr&gt;<\/th><th scope=col>&lt;dbl&gt;<\/th><th scope=col>&lt;int&gt;<\/th><th scope=col>&lt;int&gt;<\/th><th scope=col>&lt;chr&gt;<\/th><th scope=col>&lt;dbl&gt;<\/th><th scope=col>&lt;chr&gt;<\/th><th scope=col>&lt;chr&gt;<\/th><\/tr>\n",
       "<\/thead>\n",
       "<tbody>\n",
       "\t<tr><td> 1<\/td><td>0<\/td><td>3<\/td><td>Braund, Mr. Owen Harris                                  <\/td><td>male  <\/td><td>22<\/td><td>1<\/td><td>0<\/td><td>A\/5 21171       <\/td><td>  7.2500<\/td><td>           <\/td><td>S<\/td><\/tr>\n",
       "\t<tr><td> 2<\/td><td>1<\/td><td>1<\/td><td>Cumings, Mrs. John Bradley (Florence Briggs Thayer)      <\/td><td>female<\/td><td>38<\/td><td>1<\/td><td>0<\/td><td>PC 17599        <\/td><td> 71.2833<\/td><td>C85        <\/td><td>C<\/td><\/tr>\n",
       "\t<tr><td> 3<\/td><td>1<\/td><td>3<\/td><td>Heikkinen, Miss. Laina                                   <\/td><td>female<\/td><td>26<\/td><td>0<\/td><td>0<\/td><td>STON\/O2. 3101282<\/td><td>  7.9250<\/td><td>           <\/td><td>S<\/td><\/tr>\n",
       "\t<tr><td> 4<\/td><td>1<\/td><td>1<\/td><td>Futrelle, Mrs. Jacques Heath (Lily May Peel)             <\/td><td>female<\/td><td>35<\/td><td>1<\/td><td>0<\/td><td>113803          <\/td><td> 53.1000<\/td><td>C123       <\/td><td>S<\/td><\/tr>\n",
       "\t<tr><td> 5<\/td><td>0<\/td><td>3<\/td><td>Allen, Mr. William Henry                                 <\/td><td>male  <\/td><td>35<\/td><td>0<\/td><td>0<\/td><td>373450          <\/td><td>  8.0500<\/td><td>           <\/td><td>S<\/td><\/tr>\n",
       "\t<tr><td> 6<\/td><td>0<\/td><td>3<\/td><td>Moran, Mr. James                                         <\/td><td>male  <\/td><td>NA<\/td><td>0<\/td><td>0<\/td><td>330877          <\/td><td>  8.4583<\/td><td>           <\/td><td>Q<\/td><\/tr>\n",
       "\t<tr><td> 7<\/td><td>0<\/td><td>1<\/td><td>McCarthy, Mr. Timothy J                                  <\/td><td>male  <\/td><td>54<\/td><td>0<\/td><td>0<\/td><td>17463           <\/td><td> 51.8625<\/td><td>E46        <\/td><td>S<\/td><\/tr>\n",
       "\t<tr><td> 8<\/td><td>0<\/td><td>3<\/td><td>Palsson, Master. Gosta Leonard                           <\/td><td>male  <\/td><td> 2<\/td><td>3<\/td><td>1<\/td><td>349909          <\/td><td> 21.0750<\/td><td>           <\/td><td>S<\/td><\/tr>\n",
       "\t<tr><td> 9<\/td><td>1<\/td><td>3<\/td><td>Johnson, Mrs. Oscar W (Elisabeth Vilhelmina Berg)        <\/td><td>female<\/td><td>27<\/td><td>0<\/td><td>2<\/td><td>347742          <\/td><td> 11.1333<\/td><td>           <\/td><td>S<\/td><\/tr>\n",
       "\t<tr><td>10<\/td><td>1<\/td><td>2<\/td><td>Nasser, Mrs. Nicholas (Adele Achem)                      <\/td><td>female<\/td><td>14<\/td><td>1<\/td><td>0<\/td><td>237736          <\/td><td> 30.0708<\/td><td>           <\/td><td>C<\/td><\/tr>\n",
       "\t<tr><td>11<\/td><td>1<\/td><td>3<\/td><td>Sandstrom, Miss. Marguerite Rut                          <\/td><td>female<\/td><td> 4<\/td><td>1<\/td><td>1<\/td><td>PP 9549         <\/td><td> 16.7000<\/td><td>G6         <\/td><td>S<\/td><\/tr>\n",
       "\t<tr><td>12<\/td><td>1<\/td><td>1<\/td><td>Bonnell, Miss. Elizabeth                                 <\/td><td>female<\/td><td>58<\/td><td>0<\/td><td>0<\/td><td>113783          <\/td><td> 26.5500<\/td><td>C103       <\/td><td>S<\/td><\/tr>\n",
       "\t<tr><td>13<\/td><td>0<\/td><td>3<\/td><td>Saundercock, Mr. William Henry                           <\/td><td>male  <\/td><td>20<\/td><td>0<\/td><td>0<\/td><td>A\/5. 2151       <\/td><td>  8.0500<\/td><td>           <\/td><td>S<\/td><\/tr>\n",
       "\t<tr><td>14<\/td><td>0<\/td><td>3<\/td><td>Andersson, Mr. Anders Johan                              <\/td><td>male  <\/td><td>39<\/td><td>1<\/td><td>5<\/td><td>347082          <\/td><td> 31.2750<\/td><td>           <\/td><td>S<\/td><\/tr>\n",
       "\t<tr><td>15<\/td><td>0<\/td><td>3<\/td><td>Vestrom, Miss. Hulda Amanda Adolfina                     <\/td><td>female<\/td><td>14<\/td><td>0<\/td><td>0<\/td><td>350406          <\/td><td>  7.8542<\/td><td>           <\/td><td>S<\/td><\/tr>\n",
       "\t<tr><td>16<\/td><td>1<\/td><td>2<\/td><td>Hewlett, Mrs. (Mary D Kingcome)                          <\/td><td>female<\/td><td>55<\/td><td>0<\/td><td>0<\/td><td>248706          <\/td><td> 16.0000<\/td><td>           <\/td><td>S<\/td><\/tr>\n",
       "\t<tr><td>17<\/td><td>0<\/td><td>3<\/td><td>Rice, Master. Eugene                                     <\/td><td>male  <\/td><td> 2<\/td><td>4<\/td><td>1<\/td><td>382652          <\/td><td> 29.1250<\/td><td>           <\/td><td>Q<\/td><\/tr>\n",
       "\t<tr><td>18<\/td><td>1<\/td><td>2<\/td><td>Williams, Mr. Charles Eugene                             <\/td><td>male  <\/td><td>NA<\/td><td>0<\/td><td>0<\/td><td>244373          <\/td><td> 13.0000<\/td><td>           <\/td><td>S<\/td><\/tr>\n",
       "\t<tr><td>19<\/td><td>0<\/td><td>3<\/td><td>Vander Planke, Mrs. Julius (Emelia Maria Vandemoortele)  <\/td><td>female<\/td><td>31<\/td><td>1<\/td><td>0<\/td><td>345763          <\/td><td> 18.0000<\/td><td>           <\/td><td>S<\/td><\/tr>\n",
       "\t<tr><td>20<\/td><td>1<\/td><td>3<\/td><td>Masselmani, Mrs. Fatima                                  <\/td><td>female<\/td><td>NA<\/td><td>0<\/td><td>0<\/td><td>2649            <\/td><td>  7.2250<\/td><td>           <\/td><td>C<\/td><\/tr>\n",
       "\t<tr><td>21<\/td><td>0<\/td><td>2<\/td><td>Fynney, Mr. Joseph J                                     <\/td><td>male  <\/td><td>35<\/td><td>0<\/td><td>0<\/td><td>239865          <\/td><td> 26.0000<\/td><td>           <\/td><td>S<\/td><\/tr>\n",
       "\t<tr><td>22<\/td><td>1<\/td><td>2<\/td><td>Beesley, Mr. Lawrence                                    <\/td><td>male  <\/td><td>34<\/td><td>0<\/td><td>0<\/td><td>248698          <\/td><td> 13.0000<\/td><td>D56        <\/td><td>S<\/td><\/tr>\n",
       "\t<tr><td>23<\/td><td>1<\/td><td>3<\/td><td>McGowan, Miss. Anna \"Annie\"                              <\/td><td>female<\/td><td>15<\/td><td>0<\/td><td>0<\/td><td>330923          <\/td><td>  8.0292<\/td><td>           <\/td><td>Q<\/td><\/tr>\n",
       "\t<tr><td>24<\/td><td>1<\/td><td>1<\/td><td>Sloper, Mr. William Thompson                             <\/td><td>male  <\/td><td>28<\/td><td>0<\/td><td>0<\/td><td>113788          <\/td><td> 35.5000<\/td><td>A6         <\/td><td>S<\/td><\/tr>\n",
       "\t<tr><td>25<\/td><td>0<\/td><td>3<\/td><td>Palsson, Miss. Torborg Danira                            <\/td><td>female<\/td><td> 8<\/td><td>3<\/td><td>1<\/td><td>349909          <\/td><td> 21.0750<\/td><td>           <\/td><td>S<\/td><\/tr>\n",
       "\t<tr><td>26<\/td><td>1<\/td><td>3<\/td><td>Asplund, Mrs. Carl Oscar (Selma Augusta Emilia Johansson)<\/td><td>female<\/td><td>38<\/td><td>1<\/td><td>5<\/td><td>347077          <\/td><td> 31.3875<\/td><td>           <\/td><td>S<\/td><\/tr>\n",
       "\t<tr><td>27<\/td><td>0<\/td><td>3<\/td><td>Emir, Mr. Farred Chehab                                  <\/td><td>male  <\/td><td>NA<\/td><td>0<\/td><td>0<\/td><td>2631            <\/td><td>  7.2250<\/td><td>           <\/td><td>C<\/td><\/tr>\n",
       "\t<tr><td>28<\/td><td>0<\/td><td>1<\/td><td>Fortune, Mr. Charles Alexander                           <\/td><td>male  <\/td><td>19<\/td><td>3<\/td><td>2<\/td><td>19950           <\/td><td>263.0000<\/td><td>C23 C25 C27<\/td><td>S<\/td><\/tr>\n",
       "\t<tr><td>29<\/td><td>1<\/td><td>3<\/td><td>O'Dwyer, Miss. Ellen \"Nellie\"                            <\/td><td>female<\/td><td>NA<\/td><td>0<\/td><td>0<\/td><td>330959          <\/td><td>  7.8792<\/td><td>           <\/td><td>Q<\/td><\/tr>\n",
       "\t<tr><td>30<\/td><td>0<\/td><td>3<\/td><td>Todoroff, Mr. Lalio                                      <\/td><td>male  <\/td><td>NA<\/td><td>0<\/td><td>0<\/td><td>349216          <\/td><td>  7.8958<\/td><td>           <\/td><td>S<\/td><\/tr>\n",
       "\t<tr><td>⋮<\/td><td>⋮<\/td><td>⋮<\/td><td>⋮<\/td><td>⋮<\/td><td>⋮<\/td><td>⋮<\/td><td>⋮<\/td><td>⋮<\/td><td>⋮<\/td><td>⋮<\/td><td>⋮<\/td><\/tr>\n",
       "\t<tr><td>862<\/td><td>0<\/td><td>2<\/td><td>Giles, Mr. Frederick Edward                        <\/td><td>male  <\/td><td>21<\/td><td>1<\/td><td>0<\/td><td>28134           <\/td><td>11.5000<\/td><td>           <\/td><td>S<\/td><\/tr>\n",
       "\t<tr><td>863<\/td><td>1<\/td><td>1<\/td><td>Swift, Mrs. Frederick Joel (Margaret Welles Barron)<\/td><td>female<\/td><td>48<\/td><td>0<\/td><td>0<\/td><td>17466           <\/td><td>25.9292<\/td><td>D17        <\/td><td>S<\/td><\/tr>\n",
       "\t<tr><td>864<\/td><td>0<\/td><td>3<\/td><td>Sage, Miss. Dorothy Edith \"Dolly\"                  <\/td><td>female<\/td><td>NA<\/td><td>8<\/td><td>2<\/td><td>CA. 2343        <\/td><td>69.5500<\/td><td>           <\/td><td>S<\/td><\/tr>\n",
       "\t<tr><td>865<\/td><td>0<\/td><td>2<\/td><td>Gill, Mr. John William                             <\/td><td>male  <\/td><td>24<\/td><td>0<\/td><td>0<\/td><td>233866          <\/td><td>13.0000<\/td><td>           <\/td><td>S<\/td><\/tr>\n",
       "\t<tr><td>866<\/td><td>1<\/td><td>2<\/td><td>Bystrom, Mrs. (Karolina)                           <\/td><td>female<\/td><td>42<\/td><td>0<\/td><td>0<\/td><td>236852          <\/td><td>13.0000<\/td><td>           <\/td><td>S<\/td><\/tr>\n",
       "\t<tr><td>867<\/td><td>1<\/td><td>2<\/td><td>Duran y More, Miss. Asuncion                       <\/td><td>female<\/td><td>27<\/td><td>1<\/td><td>0<\/td><td>SC\/PARIS 2149   <\/td><td>13.8583<\/td><td>           <\/td><td>C<\/td><\/tr>\n",
       "\t<tr><td>868<\/td><td>0<\/td><td>1<\/td><td>Roebling, Mr. Washington Augustus II               <\/td><td>male  <\/td><td>31<\/td><td>0<\/td><td>0<\/td><td>PC 17590        <\/td><td>50.4958<\/td><td>A24        <\/td><td>S<\/td><\/tr>\n",
       "\t<tr><td>869<\/td><td>0<\/td><td>3<\/td><td>van Melkebeke, Mr. Philemon                        <\/td><td>male  <\/td><td>NA<\/td><td>0<\/td><td>0<\/td><td>345777          <\/td><td> 9.5000<\/td><td>           <\/td><td>S<\/td><\/tr>\n",
       "\t<tr><td>870<\/td><td>1<\/td><td>3<\/td><td>Johnson, Master. Harold Theodor                    <\/td><td>male  <\/td><td> 4<\/td><td>1<\/td><td>1<\/td><td>347742          <\/td><td>11.1333<\/td><td>           <\/td><td>S<\/td><\/tr>\n",
       "\t<tr><td>871<\/td><td>0<\/td><td>3<\/td><td>Balkic, Mr. Cerin                                  <\/td><td>male  <\/td><td>26<\/td><td>0<\/td><td>0<\/td><td>349248          <\/td><td> 7.8958<\/td><td>           <\/td><td>S<\/td><\/tr>\n",
       "\t<tr><td>872<\/td><td>1<\/td><td>1<\/td><td>Beckwith, Mrs. Richard Leonard (Sallie Monypeny)   <\/td><td>female<\/td><td>47<\/td><td>1<\/td><td>1<\/td><td>11751           <\/td><td>52.5542<\/td><td>D35        <\/td><td>S<\/td><\/tr>\n",
       "\t<tr><td>873<\/td><td>0<\/td><td>1<\/td><td>Carlsson, Mr. Frans Olof                           <\/td><td>male  <\/td><td>33<\/td><td>0<\/td><td>0<\/td><td>695             <\/td><td> 5.0000<\/td><td>B51 B53 B55<\/td><td>S<\/td><\/tr>\n",
       "\t<tr><td>874<\/td><td>0<\/td><td>3<\/td><td>Vander Cruyssen, Mr. Victor                        <\/td><td>male  <\/td><td>47<\/td><td>0<\/td><td>0<\/td><td>345765          <\/td><td> 9.0000<\/td><td>           <\/td><td>S<\/td><\/tr>\n",
       "\t<tr><td>875<\/td><td>1<\/td><td>2<\/td><td>Abelson, Mrs. Samuel (Hannah Wizosky)              <\/td><td>female<\/td><td>28<\/td><td>1<\/td><td>0<\/td><td>P\/PP 3381       <\/td><td>24.0000<\/td><td>           <\/td><td>C<\/td><\/tr>\n",
       "\t<tr><td>876<\/td><td>1<\/td><td>3<\/td><td>Najib, Miss. Adele Kiamie \"Jane\"                   <\/td><td>female<\/td><td>15<\/td><td>0<\/td><td>0<\/td><td>2667            <\/td><td> 7.2250<\/td><td>           <\/td><td>C<\/td><\/tr>\n",
       "\t<tr><td>877<\/td><td>0<\/td><td>3<\/td><td>Gustafsson, Mr. Alfred Ossian                      <\/td><td>male  <\/td><td>20<\/td><td>0<\/td><td>0<\/td><td>7534            <\/td><td> 9.8458<\/td><td>           <\/td><td>S<\/td><\/tr>\n",
       "\t<tr><td>878<\/td><td>0<\/td><td>3<\/td><td>Petroff, Mr. Nedelio                               <\/td><td>male  <\/td><td>19<\/td><td>0<\/td><td>0<\/td><td>349212          <\/td><td> 7.8958<\/td><td>           <\/td><td>S<\/td><\/tr>\n",
       "\t<tr><td>879<\/td><td>0<\/td><td>3<\/td><td>Laleff, Mr. Kristo                                 <\/td><td>male  <\/td><td>NA<\/td><td>0<\/td><td>0<\/td><td>349217          <\/td><td> 7.8958<\/td><td>           <\/td><td>S<\/td><\/tr>\n",
       "\t<tr><td>880<\/td><td>1<\/td><td>1<\/td><td>Potter, Mrs. Thomas Jr (Lily Alexenia Wilson)      <\/td><td>female<\/td><td>56<\/td><td>0<\/td><td>1<\/td><td>11767           <\/td><td>83.1583<\/td><td>C50        <\/td><td>C<\/td><\/tr>\n",
       "\t<tr><td>881<\/td><td>1<\/td><td>2<\/td><td>Shelley, Mrs. William (Imanita Parrish Hall)       <\/td><td>female<\/td><td>25<\/td><td>0<\/td><td>1<\/td><td>230433          <\/td><td>26.0000<\/td><td>           <\/td><td>S<\/td><\/tr>\n",
       "\t<tr><td>882<\/td><td>0<\/td><td>3<\/td><td>Markun, Mr. Johann                                 <\/td><td>male  <\/td><td>33<\/td><td>0<\/td><td>0<\/td><td>349257          <\/td><td> 7.8958<\/td><td>           <\/td><td>S<\/td><\/tr>\n",
       "\t<tr><td>883<\/td><td>0<\/td><td>3<\/td><td>Dahlberg, Miss. Gerda Ulrika                       <\/td><td>female<\/td><td>22<\/td><td>0<\/td><td>0<\/td><td>7552            <\/td><td>10.5167<\/td><td>           <\/td><td>S<\/td><\/tr>\n",
       "\t<tr><td>884<\/td><td>0<\/td><td>2<\/td><td>Banfield, Mr. Frederick James                      <\/td><td>male  <\/td><td>28<\/td><td>0<\/td><td>0<\/td><td>C.A.\/SOTON 34068<\/td><td>10.5000<\/td><td>           <\/td><td>S<\/td><\/tr>\n",
       "\t<tr><td>885<\/td><td>0<\/td><td>3<\/td><td>Sutehall, Mr. Henry Jr                             <\/td><td>male  <\/td><td>25<\/td><td>0<\/td><td>0<\/td><td>SOTON\/OQ 392076 <\/td><td> 7.0500<\/td><td>           <\/td><td>S<\/td><\/tr>\n",
       "\t<tr><td>886<\/td><td>0<\/td><td>3<\/td><td>Rice, Mrs. William (Margaret Norton)               <\/td><td>female<\/td><td>39<\/td><td>0<\/td><td>5<\/td><td>382652          <\/td><td>29.1250<\/td><td>           <\/td><td>Q<\/td><\/tr>\n",
       "\t<tr><td>887<\/td><td>0<\/td><td>2<\/td><td>Montvila, Rev. Juozas                              <\/td><td>male  <\/td><td>27<\/td><td>0<\/td><td>0<\/td><td>211536          <\/td><td>13.0000<\/td><td>           <\/td><td>S<\/td><\/tr>\n",
       "\t<tr><td>888<\/td><td>1<\/td><td>1<\/td><td>Graham, Miss. Margaret Edith                       <\/td><td>female<\/td><td>19<\/td><td>0<\/td><td>0<\/td><td>112053          <\/td><td>30.0000<\/td><td>B42        <\/td><td>S<\/td><\/tr>\n",
       "\t<tr><td>889<\/td><td>0<\/td><td>3<\/td><td>Johnston, Miss. Catherine Helen \"Carrie\"           <\/td><td>female<\/td><td>NA<\/td><td>1<\/td><td>2<\/td><td>W.\/C. 6607      <\/td><td>23.4500<\/td><td>           <\/td><td>S<\/td><\/tr>\n",
       "\t<tr><td>890<\/td><td>1<\/td><td>1<\/td><td>Behr, Mr. Karl Howell                              <\/td><td>male  <\/td><td>26<\/td><td>0<\/td><td>0<\/td><td>111369          <\/td><td>30.0000<\/td><td>C148       <\/td><td>C<\/td><\/tr>\n",
       "\t<tr><td>891<\/td><td>0<\/td><td>3<\/td><td>Dooley, Mr. Patrick                                <\/td><td>male  <\/td><td>32<\/td><td>0<\/td><td>0<\/td><td>370376          <\/td><td> 7.7500<\/td><td>           <\/td><td>Q<\/td><\/tr>\n",
       "<\/tbody>\n",
       "<\/table>\n"
      ]
     },
     "metadata":{
      
     },
     "output_type":"display_data"
    }
   ],
   "metadata":{
    "datalore":{
     "node_id":"jNaTKswd5FichueInFjhL0",
     "type":"CODE",
     "hide_input_from_viewers":true,
     "hide_output_from_viewers":true
    }
   }
  },
  {
   "cell_type":"markdown",
   "source":[
    "## Number of rows dataset"
   ],
   "attachments":{
    
   },
   "metadata":{
    "datalore":{
     "node_id":"hImxmeC9PaBP45Kku7sJCt",
     "type":"MD",
     "hide_input_from_viewers":true,
     "hide_output_from_viewers":true
    }
   }
  },
  {
   "cell_type":"code",
   "source":[
    "nrow(titanic_train)"
   ],
   "execution_count":4,
   "outputs":[
    {
     "data":{
      "text\/html":[
       "891"
      ]
     },
     "metadata":{
      
     },
     "output_type":"display_data"
    }
   ],
   "metadata":{
    "datalore":{
     "node_id":"rbuttQrveXsTzWbm6kaXAS",
     "type":"CODE",
     "hide_input_from_viewers":true,
     "hide_output_from_viewers":true
    }
   }
  },
  {
   "cell_type":"markdown",
   "source":[
    "## Drop missing value from dataset\n",
    "### We should drop missing value before put dataset to model."
   ],
   "attachments":{
    
   },
   "metadata":{
    "datalore":{
     "node_id":"7eoAhv4yrT8wlBy1z82RI9",
     "type":"MD",
     "hide_input_from_viewers":true,
     "hide_output_from_viewers":true
    }
   }
  },
  {
   "cell_type":"code",
   "source":[
    "titanic_train <- na.omit(titanic_train)\n",
    "titanic_train"
   ],
   "execution_count":5,
   "outputs":[
    {
     "data":{
      "text\/html":[
       "<table class=\"dataframe\">\n",
       "<caption>A data.frame: 714 × 12<\/caption>\n",
       "<thead>\n",
       "\t<tr><th><\/th><th scope=col>PassengerId<\/th><th scope=col>Survived<\/th><th scope=col>Pclass<\/th><th scope=col>Name<\/th><th scope=col>Sex<\/th><th scope=col>Age<\/th><th scope=col>SibSp<\/th><th scope=col>Parch<\/th><th scope=col>Ticket<\/th><th scope=col>Fare<\/th><th scope=col>Cabin<\/th><th scope=col>Embarked<\/th><\/tr>\n",
       "\t<tr><th><\/th><th scope=col>&lt;int&gt;<\/th><th scope=col>&lt;int&gt;<\/th><th scope=col>&lt;int&gt;<\/th><th scope=col>&lt;chr&gt;<\/th><th scope=col>&lt;chr&gt;<\/th><th scope=col>&lt;dbl&gt;<\/th><th scope=col>&lt;int&gt;<\/th><th scope=col>&lt;int&gt;<\/th><th scope=col>&lt;chr&gt;<\/th><th scope=col>&lt;dbl&gt;<\/th><th scope=col>&lt;chr&gt;<\/th><th scope=col>&lt;chr&gt;<\/th><\/tr>\n",
       "<\/thead>\n",
       "<tbody>\n",
       "\t<tr><th scope=row>1<\/th><td> 1<\/td><td>0<\/td><td>3<\/td><td>Braund, Mr. Owen Harris                                  <\/td><td>male  <\/td><td>22<\/td><td>1<\/td><td>0<\/td><td>A\/5 21171       <\/td><td>  7.2500<\/td><td>           <\/td><td>S<\/td><\/tr>\n",
       "\t<tr><th scope=row>2<\/th><td> 2<\/td><td>1<\/td><td>1<\/td><td>Cumings, Mrs. John Bradley (Florence Briggs Thayer)      <\/td><td>female<\/td><td>38<\/td><td>1<\/td><td>0<\/td><td>PC 17599        <\/td><td> 71.2833<\/td><td>C85        <\/td><td>C<\/td><\/tr>\n",
       "\t<tr><th scope=row>3<\/th><td> 3<\/td><td>1<\/td><td>3<\/td><td>Heikkinen, Miss. Laina                                   <\/td><td>female<\/td><td>26<\/td><td>0<\/td><td>0<\/td><td>STON\/O2. 3101282<\/td><td>  7.9250<\/td><td>           <\/td><td>S<\/td><\/tr>\n",
       "\t<tr><th scope=row>4<\/th><td> 4<\/td><td>1<\/td><td>1<\/td><td>Futrelle, Mrs. Jacques Heath (Lily May Peel)             <\/td><td>female<\/td><td>35<\/td><td>1<\/td><td>0<\/td><td>113803          <\/td><td> 53.1000<\/td><td>C123       <\/td><td>S<\/td><\/tr>\n",
       "\t<tr><th scope=row>5<\/th><td> 5<\/td><td>0<\/td><td>3<\/td><td>Allen, Mr. William Henry                                 <\/td><td>male  <\/td><td>35<\/td><td>0<\/td><td>0<\/td><td>373450          <\/td><td>  8.0500<\/td><td>           <\/td><td>S<\/td><\/tr>\n",
       "\t<tr><th scope=row>7<\/th><td> 7<\/td><td>0<\/td><td>1<\/td><td>McCarthy, Mr. Timothy J                                  <\/td><td>male  <\/td><td>54<\/td><td>0<\/td><td>0<\/td><td>17463           <\/td><td> 51.8625<\/td><td>E46        <\/td><td>S<\/td><\/tr>\n",
       "\t<tr><th scope=row>8<\/th><td> 8<\/td><td>0<\/td><td>3<\/td><td>Palsson, Master. Gosta Leonard                           <\/td><td>male  <\/td><td> 2<\/td><td>3<\/td><td>1<\/td><td>349909          <\/td><td> 21.0750<\/td><td>           <\/td><td>S<\/td><\/tr>\n",
       "\t<tr><th scope=row>9<\/th><td> 9<\/td><td>1<\/td><td>3<\/td><td>Johnson, Mrs. Oscar W (Elisabeth Vilhelmina Berg)        <\/td><td>female<\/td><td>27<\/td><td>0<\/td><td>2<\/td><td>347742          <\/td><td> 11.1333<\/td><td>           <\/td><td>S<\/td><\/tr>\n",
       "\t<tr><th scope=row>10<\/th><td>10<\/td><td>1<\/td><td>2<\/td><td>Nasser, Mrs. Nicholas (Adele Achem)                      <\/td><td>female<\/td><td>14<\/td><td>1<\/td><td>0<\/td><td>237736          <\/td><td> 30.0708<\/td><td>           <\/td><td>C<\/td><\/tr>\n",
       "\t<tr><th scope=row>11<\/th><td>11<\/td><td>1<\/td><td>3<\/td><td>Sandstrom, Miss. Marguerite Rut                          <\/td><td>female<\/td><td> 4<\/td><td>1<\/td><td>1<\/td><td>PP 9549         <\/td><td> 16.7000<\/td><td>G6         <\/td><td>S<\/td><\/tr>\n",
       "\t<tr><th scope=row>12<\/th><td>12<\/td><td>1<\/td><td>1<\/td><td>Bonnell, Miss. Elizabeth                                 <\/td><td>female<\/td><td>58<\/td><td>0<\/td><td>0<\/td><td>113783          <\/td><td> 26.5500<\/td><td>C103       <\/td><td>S<\/td><\/tr>\n",
       "\t<tr><th scope=row>13<\/th><td>13<\/td><td>0<\/td><td>3<\/td><td>Saundercock, Mr. William Henry                           <\/td><td>male  <\/td><td>20<\/td><td>0<\/td><td>0<\/td><td>A\/5. 2151       <\/td><td>  8.0500<\/td><td>           <\/td><td>S<\/td><\/tr>\n",
       "\t<tr><th scope=row>14<\/th><td>14<\/td><td>0<\/td><td>3<\/td><td>Andersson, Mr. Anders Johan                              <\/td><td>male  <\/td><td>39<\/td><td>1<\/td><td>5<\/td><td>347082          <\/td><td> 31.2750<\/td><td>           <\/td><td>S<\/td><\/tr>\n",
       "\t<tr><th scope=row>15<\/th><td>15<\/td><td>0<\/td><td>3<\/td><td>Vestrom, Miss. Hulda Amanda Adolfina                     <\/td><td>female<\/td><td>14<\/td><td>0<\/td><td>0<\/td><td>350406          <\/td><td>  7.8542<\/td><td>           <\/td><td>S<\/td><\/tr>\n",
       "\t<tr><th scope=row>16<\/th><td>16<\/td><td>1<\/td><td>2<\/td><td>Hewlett, Mrs. (Mary D Kingcome)                          <\/td><td>female<\/td><td>55<\/td><td>0<\/td><td>0<\/td><td>248706          <\/td><td> 16.0000<\/td><td>           <\/td><td>S<\/td><\/tr>\n",
       "\t<tr><th scope=row>17<\/th><td>17<\/td><td>0<\/td><td>3<\/td><td>Rice, Master. Eugene                                     <\/td><td>male  <\/td><td> 2<\/td><td>4<\/td><td>1<\/td><td>382652          <\/td><td> 29.1250<\/td><td>           <\/td><td>Q<\/td><\/tr>\n",
       "\t<tr><th scope=row>19<\/th><td>19<\/td><td>0<\/td><td>3<\/td><td>Vander Planke, Mrs. Julius (Emelia Maria Vandemoortele)  <\/td><td>female<\/td><td>31<\/td><td>1<\/td><td>0<\/td><td>345763          <\/td><td> 18.0000<\/td><td>           <\/td><td>S<\/td><\/tr>\n",
       "\t<tr><th scope=row>21<\/th><td>21<\/td><td>0<\/td><td>2<\/td><td>Fynney, Mr. Joseph J                                     <\/td><td>male  <\/td><td>35<\/td><td>0<\/td><td>0<\/td><td>239865          <\/td><td> 26.0000<\/td><td>           <\/td><td>S<\/td><\/tr>\n",
       "\t<tr><th scope=row>22<\/th><td>22<\/td><td>1<\/td><td>2<\/td><td>Beesley, Mr. Lawrence                                    <\/td><td>male  <\/td><td>34<\/td><td>0<\/td><td>0<\/td><td>248698          <\/td><td> 13.0000<\/td><td>D56        <\/td><td>S<\/td><\/tr>\n",
       "\t<tr><th scope=row>23<\/th><td>23<\/td><td>1<\/td><td>3<\/td><td>McGowan, Miss. Anna \"Annie\"                              <\/td><td>female<\/td><td>15<\/td><td>0<\/td><td>0<\/td><td>330923          <\/td><td>  8.0292<\/td><td>           <\/td><td>Q<\/td><\/tr>\n",
       "\t<tr><th scope=row>24<\/th><td>24<\/td><td>1<\/td><td>1<\/td><td>Sloper, Mr. William Thompson                             <\/td><td>male  <\/td><td>28<\/td><td>0<\/td><td>0<\/td><td>113788          <\/td><td> 35.5000<\/td><td>A6         <\/td><td>S<\/td><\/tr>\n",
       "\t<tr><th scope=row>25<\/th><td>25<\/td><td>0<\/td><td>3<\/td><td>Palsson, Miss. Torborg Danira                            <\/td><td>female<\/td><td> 8<\/td><td>3<\/td><td>1<\/td><td>349909          <\/td><td> 21.0750<\/td><td>           <\/td><td>S<\/td><\/tr>\n",
       "\t<tr><th scope=row>26<\/th><td>26<\/td><td>1<\/td><td>3<\/td><td>Asplund, Mrs. Carl Oscar (Selma Augusta Emilia Johansson)<\/td><td>female<\/td><td>38<\/td><td>1<\/td><td>5<\/td><td>347077          <\/td><td> 31.3875<\/td><td>           <\/td><td>S<\/td><\/tr>\n",
       "\t<tr><th scope=row>28<\/th><td>28<\/td><td>0<\/td><td>1<\/td><td>Fortune, Mr. Charles Alexander                           <\/td><td>male  <\/td><td>19<\/td><td>3<\/td><td>2<\/td><td>19950           <\/td><td>263.0000<\/td><td>C23 C25 C27<\/td><td>S<\/td><\/tr>\n",
       "\t<tr><th scope=row>31<\/th><td>31<\/td><td>0<\/td><td>1<\/td><td>Uruchurtu, Don. Manuel E                                 <\/td><td>male  <\/td><td>40<\/td><td>0<\/td><td>0<\/td><td>PC 17601        <\/td><td> 27.7208<\/td><td>           <\/td><td>C<\/td><\/tr>\n",
       "\t<tr><th scope=row>34<\/th><td>34<\/td><td>0<\/td><td>2<\/td><td>Wheadon, Mr. Edward H                                    <\/td><td>male  <\/td><td>66<\/td><td>0<\/td><td>0<\/td><td>C.A. 24579      <\/td><td> 10.5000<\/td><td>           <\/td><td>S<\/td><\/tr>\n",
       "\t<tr><th scope=row>35<\/th><td>35<\/td><td>0<\/td><td>1<\/td><td>Meyer, Mr. Edgar Joseph                                  <\/td><td>male  <\/td><td>28<\/td><td>1<\/td><td>0<\/td><td>PC 17604        <\/td><td> 82.1708<\/td><td>           <\/td><td>C<\/td><\/tr>\n",
       "\t<tr><th scope=row>36<\/th><td>36<\/td><td>0<\/td><td>1<\/td><td>Holverson, Mr. Alexander Oskar                           <\/td><td>male  <\/td><td>42<\/td><td>1<\/td><td>0<\/td><td>113789          <\/td><td> 52.0000<\/td><td>           <\/td><td>S<\/td><\/tr>\n",
       "\t<tr><th scope=row>38<\/th><td>38<\/td><td>0<\/td><td>3<\/td><td>Cann, Mr. Ernest Charles                                 <\/td><td>male  <\/td><td>21<\/td><td>0<\/td><td>0<\/td><td>A.\/5. 2152      <\/td><td>  8.0500<\/td><td>           <\/td><td>S<\/td><\/tr>\n",
       "\t<tr><th scope=row>39<\/th><td>39<\/td><td>0<\/td><td>3<\/td><td>Vander Planke, Miss. Augusta Maria                       <\/td><td>female<\/td><td>18<\/td><td>2<\/td><td>0<\/td><td>345764          <\/td><td> 18.0000<\/td><td>           <\/td><td>S<\/td><\/tr>\n",
       "\t<tr><th scope=row>⋮<\/th><td>⋮<\/td><td>⋮<\/td><td>⋮<\/td><td>⋮<\/td><td>⋮<\/td><td>⋮<\/td><td>⋮<\/td><td>⋮<\/td><td>⋮<\/td><td>⋮<\/td><td>⋮<\/td><td>⋮<\/td><\/tr>\n",
       "\t<tr><th scope=row>857<\/th><td>857<\/td><td>1<\/td><td>1<\/td><td>Wick, Mrs. George Dennick (Mary Hitchcock)         <\/td><td>female<\/td><td>45<\/td><td>1<\/td><td>1<\/td><td>36928           <\/td><td>164.8667<\/td><td>           <\/td><td>S<\/td><\/tr>\n",
       "\t<tr><th scope=row>858<\/th><td>858<\/td><td>1<\/td><td>1<\/td><td>Daly, Mr. Peter Denis                              <\/td><td>male  <\/td><td>51<\/td><td>0<\/td><td>0<\/td><td>113055          <\/td><td> 26.5500<\/td><td>E17        <\/td><td>S<\/td><\/tr>\n",
       "\t<tr><th scope=row>859<\/th><td>859<\/td><td>1<\/td><td>3<\/td><td>Baclini, Mrs. Solomon (Latifa Qurban)              <\/td><td>female<\/td><td>24<\/td><td>0<\/td><td>3<\/td><td>2666            <\/td><td> 19.2583<\/td><td>           <\/td><td>C<\/td><\/tr>\n",
       "\t<tr><th scope=row>861<\/th><td>861<\/td><td>0<\/td><td>3<\/td><td>Hansen, Mr. Claus Peter                            <\/td><td>male  <\/td><td>41<\/td><td>2<\/td><td>0<\/td><td>350026          <\/td><td> 14.1083<\/td><td>           <\/td><td>S<\/td><\/tr>\n",
       "\t<tr><th scope=row>862<\/th><td>862<\/td><td>0<\/td><td>2<\/td><td>Giles, Mr. Frederick Edward                        <\/td><td>male  <\/td><td>21<\/td><td>1<\/td><td>0<\/td><td>28134           <\/td><td> 11.5000<\/td><td>           <\/td><td>S<\/td><\/tr>\n",
       "\t<tr><th scope=row>863<\/th><td>863<\/td><td>1<\/td><td>1<\/td><td>Swift, Mrs. Frederick Joel (Margaret Welles Barron)<\/td><td>female<\/td><td>48<\/td><td>0<\/td><td>0<\/td><td>17466           <\/td><td> 25.9292<\/td><td>D17        <\/td><td>S<\/td><\/tr>\n",
       "\t<tr><th scope=row>865<\/th><td>865<\/td><td>0<\/td><td>2<\/td><td>Gill, Mr. John William                             <\/td><td>male  <\/td><td>24<\/td><td>0<\/td><td>0<\/td><td>233866          <\/td><td> 13.0000<\/td><td>           <\/td><td>S<\/td><\/tr>\n",
       "\t<tr><th scope=row>866<\/th><td>866<\/td><td>1<\/td><td>2<\/td><td>Bystrom, Mrs. (Karolina)                           <\/td><td>female<\/td><td>42<\/td><td>0<\/td><td>0<\/td><td>236852          <\/td><td> 13.0000<\/td><td>           <\/td><td>S<\/td><\/tr>\n",
       "\t<tr><th scope=row>867<\/th><td>867<\/td><td>1<\/td><td>2<\/td><td>Duran y More, Miss. Asuncion                       <\/td><td>female<\/td><td>27<\/td><td>1<\/td><td>0<\/td><td>SC\/PARIS 2149   <\/td><td> 13.8583<\/td><td>           <\/td><td>C<\/td><\/tr>\n",
       "\t<tr><th scope=row>868<\/th><td>868<\/td><td>0<\/td><td>1<\/td><td>Roebling, Mr. Washington Augustus II               <\/td><td>male  <\/td><td>31<\/td><td>0<\/td><td>0<\/td><td>PC 17590        <\/td><td> 50.4958<\/td><td>A24        <\/td><td>S<\/td><\/tr>\n",
       "\t<tr><th scope=row>870<\/th><td>870<\/td><td>1<\/td><td>3<\/td><td>Johnson, Master. Harold Theodor                    <\/td><td>male  <\/td><td> 4<\/td><td>1<\/td><td>1<\/td><td>347742          <\/td><td> 11.1333<\/td><td>           <\/td><td>S<\/td><\/tr>\n",
       "\t<tr><th scope=row>871<\/th><td>871<\/td><td>0<\/td><td>3<\/td><td>Balkic, Mr. Cerin                                  <\/td><td>male  <\/td><td>26<\/td><td>0<\/td><td>0<\/td><td>349248          <\/td><td>  7.8958<\/td><td>           <\/td><td>S<\/td><\/tr>\n",
       "\t<tr><th scope=row>872<\/th><td>872<\/td><td>1<\/td><td>1<\/td><td>Beckwith, Mrs. Richard Leonard (Sallie Monypeny)   <\/td><td>female<\/td><td>47<\/td><td>1<\/td><td>1<\/td><td>11751           <\/td><td> 52.5542<\/td><td>D35        <\/td><td>S<\/td><\/tr>\n",
       "\t<tr><th scope=row>873<\/th><td>873<\/td><td>0<\/td><td>1<\/td><td>Carlsson, Mr. Frans Olof                           <\/td><td>male  <\/td><td>33<\/td><td>0<\/td><td>0<\/td><td>695             <\/td><td>  5.0000<\/td><td>B51 B53 B55<\/td><td>S<\/td><\/tr>\n",
       "\t<tr><th scope=row>874<\/th><td>874<\/td><td>0<\/td><td>3<\/td><td>Vander Cruyssen, Mr. Victor                        <\/td><td>male  <\/td><td>47<\/td><td>0<\/td><td>0<\/td><td>345765          <\/td><td>  9.0000<\/td><td>           <\/td><td>S<\/td><\/tr>\n",
       "\t<tr><th scope=row>875<\/th><td>875<\/td><td>1<\/td><td>2<\/td><td>Abelson, Mrs. Samuel (Hannah Wizosky)              <\/td><td>female<\/td><td>28<\/td><td>1<\/td><td>0<\/td><td>P\/PP 3381       <\/td><td> 24.0000<\/td><td>           <\/td><td>C<\/td><\/tr>\n",
       "\t<tr><th scope=row>876<\/th><td>876<\/td><td>1<\/td><td>3<\/td><td>Najib, Miss. Adele Kiamie \"Jane\"                   <\/td><td>female<\/td><td>15<\/td><td>0<\/td><td>0<\/td><td>2667            <\/td><td>  7.2250<\/td><td>           <\/td><td>C<\/td><\/tr>\n",
       "\t<tr><th scope=row>877<\/th><td>877<\/td><td>0<\/td><td>3<\/td><td>Gustafsson, Mr. Alfred Ossian                      <\/td><td>male  <\/td><td>20<\/td><td>0<\/td><td>0<\/td><td>7534            <\/td><td>  9.8458<\/td><td>           <\/td><td>S<\/td><\/tr>\n",
       "\t<tr><th scope=row>878<\/th><td>878<\/td><td>0<\/td><td>3<\/td><td>Petroff, Mr. Nedelio                               <\/td><td>male  <\/td><td>19<\/td><td>0<\/td><td>0<\/td><td>349212          <\/td><td>  7.8958<\/td><td>           <\/td><td>S<\/td><\/tr>\n",
       "\t<tr><th scope=row>880<\/th><td>880<\/td><td>1<\/td><td>1<\/td><td>Potter, Mrs. Thomas Jr (Lily Alexenia Wilson)      <\/td><td>female<\/td><td>56<\/td><td>0<\/td><td>1<\/td><td>11767           <\/td><td> 83.1583<\/td><td>C50        <\/td><td>C<\/td><\/tr>\n",
       "\t<tr><th scope=row>881<\/th><td>881<\/td><td>1<\/td><td>2<\/td><td>Shelley, Mrs. William (Imanita Parrish Hall)       <\/td><td>female<\/td><td>25<\/td><td>0<\/td><td>1<\/td><td>230433          <\/td><td> 26.0000<\/td><td>           <\/td><td>S<\/td><\/tr>\n",
       "\t<tr><th scope=row>882<\/th><td>882<\/td><td>0<\/td><td>3<\/td><td>Markun, Mr. Johann                                 <\/td><td>male  <\/td><td>33<\/td><td>0<\/td><td>0<\/td><td>349257          <\/td><td>  7.8958<\/td><td>           <\/td><td>S<\/td><\/tr>\n",
       "\t<tr><th scope=row>883<\/th><td>883<\/td><td>0<\/td><td>3<\/td><td>Dahlberg, Miss. Gerda Ulrika                       <\/td><td>female<\/td><td>22<\/td><td>0<\/td><td>0<\/td><td>7552            <\/td><td> 10.5167<\/td><td>           <\/td><td>S<\/td><\/tr>\n",
       "\t<tr><th scope=row>884<\/th><td>884<\/td><td>0<\/td><td>2<\/td><td>Banfield, Mr. Frederick James                      <\/td><td>male  <\/td><td>28<\/td><td>0<\/td><td>0<\/td><td>C.A.\/SOTON 34068<\/td><td> 10.5000<\/td><td>           <\/td><td>S<\/td><\/tr>\n",
       "\t<tr><th scope=row>885<\/th><td>885<\/td><td>0<\/td><td>3<\/td><td>Sutehall, Mr. Henry Jr                             <\/td><td>male  <\/td><td>25<\/td><td>0<\/td><td>0<\/td><td>SOTON\/OQ 392076 <\/td><td>  7.0500<\/td><td>           <\/td><td>S<\/td><\/tr>\n",
       "\t<tr><th scope=row>886<\/th><td>886<\/td><td>0<\/td><td>3<\/td><td>Rice, Mrs. William (Margaret Norton)               <\/td><td>female<\/td><td>39<\/td><td>0<\/td><td>5<\/td><td>382652          <\/td><td> 29.1250<\/td><td>           <\/td><td>Q<\/td><\/tr>\n",
       "\t<tr><th scope=row>887<\/th><td>887<\/td><td>0<\/td><td>2<\/td><td>Montvila, Rev. Juozas                              <\/td><td>male  <\/td><td>27<\/td><td>0<\/td><td>0<\/td><td>211536          <\/td><td> 13.0000<\/td><td>           <\/td><td>S<\/td><\/tr>\n",
       "\t<tr><th scope=row>888<\/th><td>888<\/td><td>1<\/td><td>1<\/td><td>Graham, Miss. Margaret Edith                       <\/td><td>female<\/td><td>19<\/td><td>0<\/td><td>0<\/td><td>112053          <\/td><td> 30.0000<\/td><td>B42        <\/td><td>S<\/td><\/tr>\n",
       "\t<tr><th scope=row>890<\/th><td>890<\/td><td>1<\/td><td>1<\/td><td>Behr, Mr. Karl Howell                              <\/td><td>male  <\/td><td>26<\/td><td>0<\/td><td>0<\/td><td>111369          <\/td><td> 30.0000<\/td><td>C148       <\/td><td>C<\/td><\/tr>\n",
       "\t<tr><th scope=row>891<\/th><td>891<\/td><td>0<\/td><td>3<\/td><td>Dooley, Mr. Patrick                                <\/td><td>male  <\/td><td>32<\/td><td>0<\/td><td>0<\/td><td>370376          <\/td><td>  7.7500<\/td><td>           <\/td><td>Q<\/td><\/tr>\n",
       "<\/tbody>\n",
       "<\/table>\n"
      ]
     },
     "metadata":{
      
     },
     "output_type":"display_data"
    }
   ],
   "metadata":{
    "datalore":{
     "node_id":"BqipNFvWMCQH07JAVuVMPF",
     "type":"CODE",
     "hide_input_from_viewers":true,
     "hide_output_from_viewers":true
    }
   }
  },
  {
   "cell_type":"markdown",
   "source":[
    "## Spilt data to 70% for train and 30% for test"
   ],
   "attachments":{
    
   },
   "metadata":{
    "datalore":{
     "node_id":"CO0xPAq3aqp8wNBG1eBa31",
     "type":"MD",
     "hide_input_from_viewers":true,
     "hide_output_from_viewers":true
    }
   }
  },
  {
   "cell_type":"code",
   "source":[
    "set.seed(42)\n",
    "n <- nrow(titanic_train)\n",
    "id <- sample(1:n, n*0.7) ## 70% Train 30% Test\n",
    "train_data <- titanic_train[id, ]\n",
    "test_data <- titanic_train[-id, ]"
   ],
   "execution_count":6,
   "outputs":[
    
   ],
   "metadata":{
    "datalore":{
     "node_id":"SecyLkQ0u4f3xuABohNtpF",
     "type":"CODE",
     "hide_input_from_viewers":true,
     "hide_output_from_viewers":true
    }
   }
  },
  {
   "cell_type":"markdown",
   "source":[
    "## Train model\n",
    "#### Select \"Sex\" variable in dataset to train model.\n",
    "#### When we write equation as Survived = f(Sex)."
   ],
   "attachments":{
    
   },
   "metadata":{
    "datalore":{
     "node_id":"Y6Y5tJZAj1oAhzg6qhdjpN",
     "type":"MD",
     "hide_input_from_viewers":true,
     "hide_output_from_viewers":true
    }
   }
  },
  {
   "cell_type":"code",
   "source":[
    "titanic_model <- glm(Survived ~ Sex, data = train_data, family = \"binomial\")\n",
    "prob_train <- predict(titanic_model, type = \"response\") ## probability of Survived\n",
    "train_data$Prob_Survived <- prob_train\n",
    "train_data$Pred_Survived <- ifelse(train_data$Prob_Survived >= 0.5, 1, 0)"
   ],
   "execution_count":7,
   "outputs":[
    
   ],
   "metadata":{
    "datalore":{
     "node_id":"F9bRrQMCiMQRzNXVqXY9up",
     "type":"CODE",
     "hide_input_from_viewers":true,
     "hide_output_from_viewers":true
    }
   }
  },
  {
   "cell_type":"code",
   "source":[
    "confus_matrix_train <- table(train_data$Pred_Survived, train_data$Survived, dnn = c(\"Predicted\", \"Actual\"))\n",
    "confus_matrix_train"
   ],
   "execution_count":8,
   "outputs":[
    {
     "data":{
      "text\/html":[
       "<pre>         Actual\n",
       "Predicted   0   1\n",
       "        0 252  63\n",
       "        1  45 139<\/pre>"
      ]
     },
     "metadata":{
      
     },
     "output_type":"display_data"
    }
   ],
   "metadata":{
    "datalore":{
     "node_id":"9yuWSPaynL3cwruF2brXCz",
     "type":"CODE",
     "hide_input_from_viewers":true,
     "hide_output_from_viewers":true
    }
   }
  },
  {
   "cell_type":"markdown",
   "source":[
    "## Test model"
   ],
   "attachments":{
    
   },
   "metadata":{
    "datalore":{
     "node_id":"88u236vb7j9ZOsQRF7psFQ",
     "type":"MD",
     "hide_input_from_viewers":true,
     "hide_output_from_viewers":true
    }
   }
  },
  {
   "cell_type":"code",
   "source":[
    "prob_test <- predict(titanic_model, newdata = test_data, type = \"response\")\n",
    "test_data$Prob_Survived <- prob_test\n",
    "test_data$Pred_Survived <- ifelse(test_data$Prob_Survived >= 0.5, 1, 0)"
   ],
   "execution_count":9,
   "outputs":[
    
   ],
   "metadata":{
    "datalore":{
     "node_id":"tbvaYVikKOuQWYoA2PuwhL",
     "type":"CODE",
     "hide_input_from_viewers":true,
     "hide_output_from_viewers":true
    }
   }
  },
  {
   "cell_type":"code",
   "source":[
    "confus_matrix_test <- table(test_data$Pred_Survived, test_data$Survived, dnn = c(\"Predicted\", \"Actual\"))\n",
    "confus_matrix_test"
   ],
   "execution_count":11,
   "outputs":[
    {
     "data":{
      "text\/html":[
       "<pre>         Actual\n",
       "Predicted   0   1\n",
       "        0 108  30\n",
       "        1  19  58<\/pre>"
      ]
     },
     "metadata":{
      
     },
     "output_type":"display_data"
    }
   ],
   "metadata":{
    "datalore":{
     "node_id":"EoJcfMPiOYq31vuzbXLg8n",
     "type":"CODE",
     "hide_input_from_viewers":true,
     "hide_output_from_viewers":true
    }
   }
  },
  {
   "cell_type":"markdown",
   "source":[
    "## Evaluate model\n",
    "### We use confusion matrix to evaluate model between train dataset and test dataset to calculate Accuracy, Precision and Recall."
   ],
   "attachments":{
    
   },
   "metadata":{
    "datalore":{
     "node_id":"KW3jFCrBHOoSSZpkS5vRDy",
     "type":"MD",
     "hide_input_from_viewers":true,
     "hide_output_from_viewers":true
    }
   }
  },
  {
   "cell_type":"code",
   "source":[
    "cat(\"Accuracy of train:\", (confus_matrix_train[1, 1]+confus_matrix_train[2, 2])\/sum(confus_matrix_train))\n",
    "cat(\"\\nPrecision of train :\", confus_matrix_train[2, 2]\/(confus_matrix_train[2, 1]+confus_matrix_train[2, 2]))\n",
    "cat(\"\\nRecall of train:\", confus_matrix_train[2, 2]\/(confus_matrix_train[1, 2]+confus_matrix_train[2, 2])) "
   ],
   "execution_count":15,
   "outputs":[
    {
     "name":"stdout",
     "text":[
      "Accuracy of train: 0.7835671\n",
      "Precision of train : 0.7554348\n",
      "Recall of train: 0.6881188"
     ],
     "output_type":"stream"
    }
   ],
   "metadata":{
    "datalore":{
     "node_id":"F4CZolCsRUb7pS5Hfy3bEr",
     "type":"CODE",
     "hide_input_from_viewers":true,
     "hide_output_from_viewers":true
    }
   }
  },
  {
   "cell_type":"code",
   "source":[
    "cat(\"Accuracy of test:\", (confus_matrix_test[1, 1]+confus_matrix_test[2, 2])\/sum(confus_matrix_test))\n",
    "cat(\"\\nPrecision of test :\", confus_matrix_test[2, 2]\/(confus_matrix_test[2, 1]+confus_matrix_test[2, 2]))\n",
    "cat(\"\\nRecall of test :\", confus_matrix_test[2, 2]\/(confus_matrix_test[1, 2]+confus_matrix_test[2, 2]))"
   ],
   "execution_count":16,
   "outputs":[
    {
     "name":"stdout",
     "text":[
      "Accuracy of test: 0.772093\n",
      "Precision of test : 0.7532468\n",
      "Recall of test : 0.6590909"
     ],
     "output_type":"stream"
    }
   ],
   "metadata":{
    "datalore":{
     "node_id":"2nutPY7ghXHw3NLk9uTu0X",
     "type":"CODE",
     "hide_input_from_viewers":true,
     "hide_output_from_viewers":true
    }
   }
  },
  {
   "cell_type":"markdown",
   "source":[
    "## Conclusion\n",
    "### Found that Accuracy of test is near by train at around 77%. Moreover, Precision and Recall of test is close to train."
   ],
   "attachments":{
    
   },
   "metadata":{
    "datalore":{
     "node_id":"nAMOK0lMSJFl4jSLwDWcqT",
     "type":"MD",
     "hide_input_from_viewers":true,
     "hide_output_from_viewers":true
    }
   }
  }
 ],
 "metadata":{
  "kernelspec":{
   "display_name":"R",
   "language":"r",
   "name":"ir"
  },
  "datalore":{
   "computation_mode":"JUPYTER",
   "package_manager":"conda",
   "base_environment":"minimal",
   "packages":[
    
   ],
   "report_row_ids":[
    
   ],
   "version":3
  }
 },
 "nbformat":4,
 "nbformat_minor":4
}